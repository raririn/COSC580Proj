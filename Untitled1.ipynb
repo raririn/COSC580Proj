{
 "cells": [
  {
   "cell_type": "code",
   "execution_count": 1,
   "metadata": {},
   "outputs": [],
   "source": [
    "from src.table import Table\n",
    "from core import Core"
   ]
  },
  {
   "cell_type": "code",
   "execution_count": 2,
   "metadata": {},
   "outputs": [],
   "source": [
    "q1 = {\n",
    "    'SELECT': [[None, 'a'], [None, 'b']],\n",
    "    'FROM': ['T'],\n",
    "    'WHERE': [['a', '=', 1]],\n",
    "    'ORDERBY': ['a', False],\n",
    "    'GROUPBY': None,\n",
    "}\n",
    "q2 = {\n",
    "    'SELECT': [[None, 'T.a'], [None, 'T.b'], [None, 'K.a']],\n",
    "    'FROM': ['T', 'K'],\n",
    "    'WHERE': [['T.a', '=' ,'K.a']],\n",
    "    'ORDERBY': [['T.a'], False],\n",
    "    'GROUPBY': None,\n",
    "}"
   ]
  },
  {
   "cell_type": "code",
   "execution_count": 3,
   "metadata": {},
   "outputs": [
    {
     "data": {
      "text/plain": [
       "0"
      ]
     },
     "execution_count": 3,
     "metadata": {},
     "output_type": "execute_result"
    }
   ],
   "source": [
    "c = Core()\n",
    "c._create_table('T', ['a', 'b', 'c'], ['int', 'int', 'int'], 'b', None)\n",
    "c._create_table('K', ['a', 'b', 'c'], ['int', 'int', 'int'], 'c', ['b', 'T', 'b', Table.ONDELETE_NOACTION])"
   ]
  },
  {
   "cell_type": "code",
   "execution_count": 4,
   "metadata": {},
   "outputs": [
    {
     "data": {
      "text/plain": [
       "0"
      ]
     },
     "execution_count": 4,
     "metadata": {},
     "output_type": "execute_result"
    }
   ],
   "source": [
    "c.tables['T']._insert((1,2,3))\n",
    "c.tables['T']._insert((1,5,3))\n",
    "c.tables['T']._insert((1,12,100))\n",
    "c.tables['T']._insert((2,13,100))\n",
    "c.tables['T']._insert((5,176,100))\n",
    "c.tables['T']._insert((2,15,100))\n",
    "c.tables['T']._insert((777,124124,101242140))\n",
    "c.tables['K']._insert((2,4,3))\n",
    "c.tables['K']._insert((1,99,5))\n",
    "c.tables['K']._insert((2,12,100))\n",
    "c.tables['K']._insert((5,176,150))"
   ]
  },
  {
   "cell_type": "code",
   "execution_count": 5,
   "metadata": {},
   "outputs": [
    {
     "name": "stdout",
     "output_type": "stream",
     "text": [
      "Table <T>\n",
      "Primary key: b\n",
      "['a: int', 'b: int', 'c: int']\n",
      "2 (1, 2, 3)\n",
      "5 (1, 5, 3)\n",
      "12 (1, 12, 100)\n",
      "13 (2, 13, 100)\n",
      "176 (5, 176, 100)\n",
      "15 (2, 15, 100)\n",
      "124124 (777, 124124, 101242140)\n"
     ]
    }
   ],
   "source": [
    "c.tables['T'].printall()"
   ]
  },
  {
   "cell_type": "code",
   "execution_count": 6,
   "metadata": {},
   "outputs": [
    {
     "name": "stdout",
     "output_type": "stream",
     "text": [
      "Table <K>\n",
      "Primary key: c\n",
      "['a: int', 'b: int', 'c: int']\n",
      "3 (2, 4, 3)\n",
      "5 (1, 99, 5)\n",
      "100 (2, 12, 100)\n",
      "150 (5, 176, 150)\n"
     ]
    }
   ],
   "source": [
    "c.tables['K'].printall()"
   ]
  },
  {
   "cell_type": "code",
   "execution_count": 10,
   "metadata": {},
   "outputs": [],
   "source": [
    "def execute(d: dict, c: Core):\n",
    "    runtime_dict = c.tables\n",
    "    for i in d['SELECT']:\n",
    "        # ignore subqueries in select for now\n",
    "        pass\n",
    "    for i in range(len(d['FROM'])):\n",
    "        if len(d['FROM'][i]) == 2:\n",
    "            '''\n",
    "            ['Subquery', 'T1'] <- with alias\n",
    "            ['Subquery', None] <- without alias\n",
    "            '''\n",
    "            alias = d['FROM'][i][1]\n",
    "            ret_t = execute(d['FROM'][i])\n",
    "            if alias:\n",
    "                runtime_dict[alias] = ret_t\n",
    "            else:    \n",
    "                runtime_dict[ret_t.name] = ret_t\n",
    "    if 'SELECT' in d:\n",
    "        if len(d['FROM']) == 1:\n",
    "            target_table = c.tables[d['FROM'][0]]\n",
    "            extract_cols = [i[1] for i in d['SELECT']]\n",
    "            aggr_func = None\n",
    "            distinct_flag = None\n",
    "            for i in d['SELECT']:\n",
    "                if i[0] and (i[0] != 'DISTINCT'):\n",
    "                    aggr_func = i\n",
    "                elif i[0] and (i[0] == 'DISTINCT'):\n",
    "                    distinct_flag = i\n",
    "            sel = target_table._select(col_names = extract_cols, distinct = distinct_flag, aggr_func = aggr_func, orderby = d['ORDERBY'], groupby = d['GROUPBY'])\n",
    "            for i in d['WHERE']:\n",
    "                sel = sel._project(i)\n",
    "            return sel\n",
    "        else:\n",
    "            conditions = []\n",
    "            for j in range(len(d['WHERE'])):\n",
    "                if j == 0:\n",
    "                    i = d['WHERE'][j]\n",
    "                    if not isinstance(i[2], int) and not isinstance(i[2], float):\n",
    "                        t1, col_t1 = (i[0].split('.'))[0], (i[0].split('.'))[1]\n",
    "                        t2, col_t2 = (i[2].split('.'))[0], (i[2].split('.'))[1]\n",
    "                        operator = i[1]\n",
    "                        target_table = c.tables[t1]._join(c.tables[t2], [col_t1, operator, col_t2], mode = 1)\n",
    "                        runtime_dict[target_table.name] = target_table\n",
    "                    else:\n",
    "                        conditions.append(i)\n",
    "                else:\n",
    "                    # Requires the join conditions to be in order!\n",
    "                    i = d['WHERE'][j]\n",
    "                    if not isinstance(i[2], int) and not isinstance(i[2], float):\n",
    "                        t1, col_t1 = target_table, i[0]\n",
    "                        t2, col_t2 = (i[2].split('.'))[0], (i[2].split('.'))[1]\n",
    "                        operator = i[1]\n",
    "                        target_table = c.tables[t1]._join(c.tables[t2], [col_t1, operator, col_t2], mode = 1)\n",
    "                        runtime_dict[target_table.name] = target_table\n",
    "                    else:\n",
    "                        conditions.append(i)\n",
    "            extract_cols = [i[1] for i in d['SELECT']]\n",
    "            aggr_func = None\n",
    "            distinct_flag = None\n",
    "            for i in d['SELECT']:\n",
    "                if i[0] and (i[0] != 'DISTINCT'):\n",
    "                    aggr_func = i\n",
    "                elif i[0] and (i[0] == 'DISTINCT'):\n",
    "                    distinct_flag = i\n",
    "            print(extract_cols)\n",
    "            sel = target_table._select(col_names = extract_cols, distinct = distinct_flag, aggr_func = aggr_func, orderby = d['ORDERBY'], groupby = d['GROUPBY'])\n",
    "            for i in conditions:\n",
    "                sel = sel._project(i)\n",
    "            return sel\n",
    "    else:\n",
    "        pass"
   ]
  },
  {
   "cell_type": "code",
   "execution_count": 8,
   "metadata": {},
   "outputs": [
    {
     "name": "stdout",
     "output_type": "stream",
     "text": [
      "Table <1575062784.6028237>\n",
      "Primary key: None\n",
      "['a: int']\n",
      "0 (1, 2)\n",
      "1 (1, 5)\n",
      "2 (1, 12)\n"
     ]
    }
   ],
   "source": [
    "execute(q1, c).printall()"
   ]
  },
  {
   "cell_type": "code",
   "execution_count": 9,
   "metadata": {},
   "outputs": [
    {
     "name": "stdout",
     "output_type": "stream",
     "text": [
      "['T.a', 'T.b', 'K.a']\n",
      "Table <1575062784.9806063>\n",
      "Primary key: None\n",
      "['T.a: int', 'T.b: int', 'K.a: int']\n",
      "0 (1, 2, 1)\n",
      "1 (1, 5, 1)\n",
      "2 (1, 12, 1)\n",
      "3 (2, 13, 2)\n",
      "4 (2, 13, 2)\n",
      "5 (2, 15, 2)\n",
      "6 (2, 15, 2)\n",
      "7 (5, 176, 5)\n"
     ]
    }
   ],
   "source": [
    "execute(q2, c).printall()"
   ]
  },
  {
   "cell_type": "code",
   "execution_count": 45,
   "metadata": {},
   "outputs": [
    {
     "data": {
      "text/plain": [
       "'T.a'"
      ]
     },
     "execution_count": 45,
     "metadata": {},
     "output_type": "execute_result"
    }
   ],
   "source": [
    "(q2['ORDERBY'])[0]"
   ]
  },
  {
   "cell_type": "code",
   "execution_count": null,
   "metadata": {},
   "outputs": [],
   "source": []
  }
 ],
 "metadata": {
  "kernelspec": {
   "display_name": "Python 3",
   "language": "python",
   "name": "python3"
  },
  "language_info": {
   "codemirror_mode": {
    "name": "ipython",
    "version": 3
   },
   "file_extension": ".py",
   "mimetype": "text/x-python",
   "name": "python",
   "nbconvert_exporter": "python",
   "pygments_lexer": "ipython3",
   "version": "3.7.3"
  }
 },
 "nbformat": 4,
 "nbformat_minor": 2
}
