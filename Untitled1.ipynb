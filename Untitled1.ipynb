{
 "cells": [
  {
   "cell_type": "code",
   "execution_count": 1,
   "metadata": {},
   "outputs": [],
   "source": [
    "from src.table import Table\n",
    "from core import Core"
   ]
  },
  {
   "cell_type": "code",
   "execution_count": 2,
   "metadata": {},
   "outputs": [],
   "source": [
    "q1 = {\n",
    "    'SELECT': [[None, 'a'], [None, 'b']],\n",
    "    'FROM': [['T', None]],\n",
    "    'WHERE': [['a', '=', 1]],\n",
    "    'ORDERBY': ['a', False],\n",
    "    'GROUPBY': None,\n",
    "}\n",
    "q2 = {\n",
    "    'SELECT': [[None, 'T.a'], [None, 'T.b'], [None, 'k1.a']],\n",
    "    'FROM': [['T', None], ['K', 'k1']],\n",
    "    'WHERE': [['T.a', '=' ,'K.a']],\n",
    "    'ORDERBY': [['T.a'], False],\n",
    "    'GROUPBY': None,\n",
    "}\n",
    "q3 = {\n",
    "    'query': []\n",
    "}"
   ]
  },
  {
   "cell_type": "code",
   "execution_count": 3,
   "metadata": {},
   "outputs": [
    {
     "data": {
      "text/plain": [
       "0"
      ]
     },
     "execution_count": 3,
     "metadata": {},
     "output_type": "execute_result"
    }
   ],
   "source": [
    "c = Core()\n",
    "c._create_table('T', ['a', 'b', 'c'], ['int', 'int', 'int'], 'b', None)\n",
    "c._create_table('K', ['a', 'b', 'c'], ['int', 'int', 'int'], 'c', ['b', 'T', 'b', Table.ONDELETE_NOACTION])"
   ]
  },
  {
   "cell_type": "code",
   "execution_count": 4,
   "metadata": {},
   "outputs": [
    {
     "data": {
      "text/plain": [
       "0"
      ]
     },
     "execution_count": 4,
     "metadata": {},
     "output_type": "execute_result"
    }
   ],
   "source": [
    "c.tables['T']._insert((1,2,3))\n",
    "c.tables['T']._insert((1,5,3))\n",
    "c.tables['T']._insert((1,12,100))\n",
    "c.tables['T']._insert((2,13,100))\n",
    "c.tables['T']._insert((5,176,100))\n",
    "c.tables['T']._insert((2,15,100))\n",
    "c.tables['T']._insert((777,124124,101242140))\n",
    "c.tables['K']._insert((2,4,3))\n",
    "c.tables['K']._insert((1,99,5))\n",
    "c.tables['K']._insert((2,12,100))\n",
    "c.tables['K']._insert((5,176,150))\n",
    "c.tables['K']._insert((5,-1,110))\n",
    "c.tables['K']._insert((5,0,17))"
   ]
  },
  {
   "cell_type": "code",
   "execution_count": 5,
   "metadata": {},
   "outputs": [
    {
     "name": "stdout",
     "output_type": "stream",
     "text": [
      "Table <T>\n",
      "Primary key: b\n",
      "['a: int', 'b: int', 'c: int']\n",
      "2 (1, 2, 3)\n",
      "5 (1, 5, 3)\n",
      "12 (1, 12, 100)\n",
      "13 (2, 13, 100)\n",
      "176 (5, 176, 100)\n",
      "15 (2, 15, 100)\n",
      "124124 (777, 124124, 101242140)\n"
     ]
    }
   ],
   "source": [
    "c.tables['T'].printall()"
   ]
  },
  {
   "cell_type": "code",
   "execution_count": 6,
   "metadata": {},
   "outputs": [
    {
     "name": "stdout",
     "output_type": "stream",
     "text": [
      "Table <K>\n",
      "Primary key: c\n",
      "['a: int', 'b: int', 'c: int']\n",
      "3 (2, 4, 3)\n",
      "5 (1, 99, 5)\n",
      "100 (2, 12, 100)\n",
      "150 (5, 176, 150)\n",
      "110 (5, -1, 110)\n",
      "17 (5, 0, 17)\n"
     ]
    }
   ],
   "source": [
    "c.tables['K'].printall()"
   ]
  },
  {
   "cell_type": "code",
   "execution_count": 7,
   "metadata": {},
   "outputs": [
    {
     "data": {
      "text/plain": [
       "['T.a']"
      ]
     },
     "execution_count": 7,
     "metadata": {},
     "output_type": "execute_result"
    }
   ],
   "source": [
    "(q2['ORDERBY'])[0]"
   ]
  },
  {
   "cell_type": "code",
   "execution_count": 8,
   "metadata": {},
   "outputs": [],
   "source": [
    "def is_val(x):\n",
    "    try:\n",
    "        float(x)\n",
    "        return True\n",
    "    except:\n",
    "        return False\n",
    "\n",
    "def parse_where(s):\n",
    "    '''\n",
    "    s is a list of tokens\n",
    "    '''\n",
    "    i = 0\n",
    "    d = {'joins': [], 'conditions': []}\n",
    "    last_junction = None\n",
    "    while i < len(s):\n",
    "        if s[i].upper() in ['AND', 'OR']:\n",
    "            last_junction = s[i].upper()\n",
    "            i += 1\n",
    "        op0, op1, op2 = s[i], s[i+1], s[i+2]\n",
    "        if is_val(op2):\n",
    "            if last_junction:\n",
    "                d['conditions'].append([last_junction, [op0, op1, op2]])\n",
    "            else:\n",
    "                d['conditions'].append(['AND', [op0, op1, op2]])\n",
    "        else:\n",
    "            d['joins'].append([op0, op1, op2])\n",
    "        i += 3\n",
    "    return d"
   ]
  },
  {
   "cell_type": "code",
   "execution_count": 9,
   "metadata": {
    "scrolled": true
   },
   "outputs": [
    {
     "data": {
      "text/plain": [
       "{'joins': [['A.a', '=', 'B.b'], ['A.g', '=', 'C.p']],\n",
       " 'conditions': [['AND', ['A.a', '>', '1']],\n",
       "  ['AND', ['A.c', '=', '1']],\n",
       "  ['OR', ['B.d', '<', '56']],\n",
       "  ['AND', ['A.e', '=', '1']]]}"
      ]
     },
     "execution_count": 9,
     "metadata": {},
     "output_type": "execute_result"
    }
   ],
   "source": [
    "s = 'A.a > 1 AND A.a = B.b AND A.c = 1 or B.d < 56 AND A.e = 1 AND A.g = C.p'\n",
    "s = s.split()\n",
    "parse_where(s)"
   ]
  },
  {
   "cell_type": "code",
   "execution_count": 16,
   "metadata": {},
   "outputs": [],
   "source": [
    "from copy import deepcopy\n",
    "\n",
    "def execute(d: dict, c: Core):\n",
    "    query = d['query']\n",
    "    columns = d['columns']\n",
    "    alias_table = d['tables']\n",
    "    runtime_dict = c.tables\n",
    "    \n",
    "    joins = query['where']['joins']\n",
    "    conditions = query['where']['conditions']\n",
    "    select = query['select']\n",
    "    groupby = query['groupby']\n",
    "    orderby = query['orderby']\n",
    "    \n",
    "    for i in joins:\n",
    "        '''\n",
    "        Sample: i = ['A1.a', '=', 'A2.b']\n",
    "        '''\n",
    "        #print('\\n', i, '\\n')\n",
    "        \n",
    "        v1, operator, v2 = i[0].split('.'), i[1], i[2].split('.')\n",
    "        t1 = alias_table[v1[0]]\n",
    "        t2 = alias_table[v2[0]]\n",
    "        flag_t1_unmodified = False\n",
    "        flag_t2_unmodified = False\n",
    "        \n",
    "        if isinstance(t1, str):\n",
    "            t1 = deepcopy(runtime_dict[t1])\n",
    "            flag_t1_unmodified = True\n",
    "        if isinstance(t2, str):\n",
    "            t2 = deepcopy(runtime_dict[t2])\n",
    "            flag_t2_unmodified = True\n",
    "        \n",
    "        if not flag_t1_unmodified:\n",
    "            c1 = i[0]\n",
    "        else:\n",
    "            c1 = v1[1]\n",
    "        \n",
    "        if not flag_t2_unmodified:\n",
    "            c2 = i[2]\n",
    "        else:\n",
    "            c2 = v2[1]        \n",
    "        \n",
    "        # Assign alias\n",
    "        t1.name = v1[0]\n",
    "        t2.name = v2[0]\n",
    "        \n",
    "        #print(t1.name, c1, t2.name, c2, v1, operator, v2)\n",
    "        \n",
    "        if flag_t1_unmodified and flag_t2_unmodified:\n",
    "            ret_table = t1._join(t2, [c1, operator, c2], override_colname = Table.OVERRIDE_COLNAME_BOTH)\n",
    "        elif (not flag_t1_unmodified) and flag_t2_unmodified:\n",
    "            ret_table = t1._join(t2, [c1, operator, c2], override_colname = Table.OVERRIDE_COLNAME_LAST)\n",
    "        elif flag_t1_unmodified and (not flag_t2_unmodified):\n",
    "            ret_table = t1._join(t2, [c1, operator, c2], override_colname = Table.OVERRIDE_COLNAME_FIRST)\n",
    "        else:\n",
    "            ret_table = t1._join(t2, [c1, operator, c2], override_colname = Table.OVERRIDE_COLNAME_NONE)\n",
    "        # Replace A1, A2 with A1 JOIN A2\n",
    "        alias_table[v1[0]] = ret_table\n",
    "        alias_table[v2[0]] = ret_table\n",
    "        # Assume the last join will return the full joined table (?)\n",
    "        final_table = ret_table\n",
    "        \n",
    "        #print(alias_table)\n",
    "        #final_table.printall()\n",
    "    \n",
    "    T, cur_table = final_table, final_table\n",
    "    #Sample: i = ['AND', ['A1.a', '>', '3']]\n",
    "    for i in conditions:\n",
    "\n",
    "        junction, condition = i[0], i[1]\n",
    "        condition[2] = float(condition[2])\n",
    "        if junction == 'AND':\n",
    "            cur_table = cur_table._project(condition)\n",
    "        else:\n",
    "            new_t = T._project(condition)\n",
    "            cur_table = cur_table._union(new_t)\n",
    "\n",
    "    for i in select:\n",
    "        aggr_func = i['aggr_func']\n",
    "        if len(aggr_func) == 0:\n",
    "            aggr_func = None\n",
    "        distinct = i['distinct']\n",
    "        if len(distinct) == 0:\n",
    "            distinct = None\n",
    "        \n",
    "    return cur_table._select()"
   ]
  },
  {
   "cell_type": "code",
   "execution_count": 17,
   "metadata": {},
   "outputs": [],
   "source": [
    "'''\n",
    "SELECT A1.a AS a1\n",
    "FROM T A1, T A2, K B1\n",
    "WHERE A1.a = A2.b AND A1.a > B1.b AND A1.a = 1 OR A1.a = 2\n",
    "ORDER BY A1.a\n",
    "'''\n",
    "\n",
    "q3 = {\n",
    "    'query': {\n",
    "        'select': {\n",
    "            'columns': ['a1'],\n",
    "            'aggr_func': [],\n",
    "            'distinct': [],\n",
    "        }\n",
    "        'from': ['A1', 'A2', 'B1'],\n",
    "        'where': {\n",
    "            'joins': [['A1.a', '=', 'A2.b'], ['A1.a', '>', 'B1.b']],\n",
    "            'conditions': [['AND', ['A1.a', '>', '2']], ['OR', ['B1.b', '=', '5']]]\n",
    "        },\n",
    "        'groupby': [],\n",
    "        'orderby': ['A1.a'],\n",
    "    },\n",
    "    'tables': {\n",
    "        'A1': 'T',\n",
    "        'A2': 'T',\n",
    "        'B1': 'K',\n",
    "    },\n",
    "    'columns': {\n",
    "        'a1': 'A1.a',\n",
    "    },\n",
    "}"
   ]
  },
  {
   "cell_type": "code",
   "execution_count": 18,
   "metadata": {},
   "outputs": [
    {
     "name": "stdout",
     "output_type": "stream",
     "text": [
      "Table <1575159109.849827>\n",
      "Primary key: None\n",
      "['A1.a: int', 'A1.b: int', 'A1.c: int', 'A2.a: int', 'A2.b: int', 'A2.c: int', 'B1.a: int', 'B1.b: int', 'B1.c: int']\n",
      "0 (5, 176, 100, 1, 5, 3, 2, 4, 3)\n",
      "1 (5, 176, 100, 1, 5, 3, 5, -1, 110)\n",
      "2 (5, 176, 100, 1, 5, 3, 5, 0, 17)\n"
     ]
    }
   ],
   "source": [
    "execute(q3, c).printall()"
   ]
  },
  {
   "cell_type": "code",
   "execution_count": 13,
   "metadata": {},
   "outputs": [
    {
     "name": "stdout",
     "output_type": "stream",
     "text": [
      "Table <1575158751.223473>\n",
      "Primary key: None\n",
      "['a: int', 'b: int', 'c: int']\n",
      "0 (1, 2, 3)\n",
      "1 (1, 5, 3)\n",
      "2 (1, 12, 100)\n",
      "3 (2, 13, 100)\n",
      "4 (5, 176, 100)\n",
      "5 (2, 15, 100)\n",
      "6 (777, 124124, 101242140)\n",
      "7 (2, 4, 3)\n",
      "8 (1, 99, 5)\n",
      "9 (2, 12, 100)\n",
      "10 (5, 176, 150)\n",
      "11 (5, -1, 110)\n",
      "12 (5, 0, 17)\n"
     ]
    }
   ],
   "source": [
    "c.tables['T']._union(c.tables['K']).printall()"
   ]
  },
  {
   "cell_type": "code",
   "execution_count": 19,
   "metadata": {},
   "outputs": [
    {
     "name": "stdout",
     "output_type": "stream",
     "text": [
      "Table <T>\n",
      "Primary key: b\n",
      "['a: int', 'b: int', 'c: int']\n",
      "2 (1, 2, 3)\n",
      "5 (1, 5, 3)\n",
      "12 (1, 12, 100)\n",
      "13 (2, 13, 100)\n",
      "176 (5, 176, 100)\n",
      "15 (2, 15, 100)\n",
      "124124 (777, 124124, 101242140)\n",
      "Table <K>\n",
      "Primary key: c\n",
      "['a: int', 'b: int', 'c: int']\n",
      "3 (2, 4, 3)\n",
      "5 (1, 99, 5)\n",
      "100 (2, 12, 100)\n",
      "150 (5, 176, 150)\n",
      "110 (5, -1, 110)\n",
      "17 (5, 0, 17)\n"
     ]
    }
   ],
   "source": [
    "c.tables['T'].printall()\n",
    "c.tables['K'].printall()"
   ]
  },
  {
   "cell_type": "code",
   "execution_count": null,
   "metadata": {},
   "outputs": [],
   "source": []
  }
 ],
 "metadata": {
  "kernelspec": {
   "display_name": "Python 3",
   "language": "python",
   "name": "python3"
  },
  "language_info": {
   "codemirror_mode": {
    "name": "ipython",
    "version": 3
   },
   "file_extension": ".py",
   "mimetype": "text/x-python",
   "name": "python",
   "nbconvert_exporter": "python",
   "pygments_lexer": "ipython3",
   "version": "3.7.3"
  }
 },
 "nbformat": 4,
 "nbformat_minor": 2
}
