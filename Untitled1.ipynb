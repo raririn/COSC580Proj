{
 "cells": [
  {
   "cell_type": "code",
   "execution_count": 1,
   "metadata": {},
   "outputs": [],
   "source": [
    "from src.table import Table\n",
    "from core import Core\n",
    "from copy import deepcopy"
   ]
  },
  {
   "cell_type": "markdown",
   "metadata": {},
   "source": [
    "### Load DB file"
   ]
  },
  {
   "cell_type": "code",
   "execution_count": 2,
   "metadata": {},
   "outputs": [
    {
     "data": {
      "text/plain": [
       "0"
      ]
     },
     "execution_count": 2,
     "metadata": {},
     "output_type": "execute_result"
    }
   ],
   "source": [
    "c = Core()\n",
    "c.head_lines = 5\n",
    "c.return_time = True\n",
    "c.printall = False\n",
    "c._load_db('test.db')"
   ]
  },
  {
   "cell_type": "code",
   "execution_count": 3,
   "metadata": {},
   "outputs": [
    {
     "name": "stdout",
     "output_type": "stream",
     "text": [
      "Executing queries takes 0.0 seconds.\n"
     ]
    }
   ],
   "source": [
    "q = '''\n",
    "use defaultdb\n",
    "'''\n",
    "c.handler(q)"
   ]
  },
  {
   "cell_type": "markdown",
   "metadata": {},
   "source": [
    "### Simple queries"
   ]
  },
  {
   "cell_type": "code",
   "execution_count": 4,
   "metadata": {},
   "outputs": [
    {
     "name": "stdout",
     "output_type": "stream",
     "text": [
      "{'type': 'select', 'query': {'select': {'columns': ['*'], 'aggr_func': [], 'distinct': []}, 'from': ['a'], 'where': {'joins': [], 'conditions': []}, 'groupby': [], 'orderby': []}, 'tables': {'a': 'a'}, 'columns': {'*': '*'}, 'subquery': {}}\n",
      "Table <1575308413.4230125>\n",
      "2 columns, 1000 rows\n",
      "['a', 'b']\n",
      "(1, 1)\n",
      "(2, 1)\n",
      "(3, 1)\n",
      "(4, 1)\n",
      "(5, 1)\n",
      "Executing queries takes 0.44866085052490234 seconds.\n"
     ]
    }
   ],
   "source": [
    "q = '''\n",
    "SELECT * FROM A\n",
    "'''\n",
    "print(c.parser.parse(q))\n",
    "c.handler(q)"
   ]
  },
  {
   "cell_type": "code",
   "execution_count": null,
   "metadata": {},
   "outputs": [],
   "source": [
    "q = '''\n",
    "DROP TABLE\n",
    "'''"
   ]
  },
  {
   "cell_type": "markdown",
   "metadata": {},
   "source": [
    "### Joins"
   ]
  },
  {
   "cell_type": "code",
   "execution_count": 4,
   "metadata": {},
   "outputs": [
    {
     "name": "stdout",
     "output_type": "stream",
     "text": [
      "{'type': 'select', 'query': {'select': {'columns': ['*'], 'aggr_func': [], 'distinct': []}, 'from': ['a'], 'where': {'joins': [], 'conditions': [['and', ['a', '=', '5']]]}, 'groupby': [], 'orderby': []}, 'tables': {'a': 'a'}, 'columns': {'*': '*'}, 'subquery': {}}\n",
      "Table <1575309413.1992478>\n",
      "2 columns, 1001 rows\n",
      "['a', 'b']\n",
      "(1, 1)\n",
      "(2, 1)\n",
      "(3, 1)\n",
      "(4, 1)\n",
      "(5, 1)\n",
      "Executing queries takes 0.45006847381591797 seconds.\n"
     ]
    }
   ],
   "source": [
    "q = '''\n",
    "SELECT *\n",
    "FROM A\n",
    "WHERE a = 5\n",
    "'''\n",
    "\n",
    "print(c.parser.parse(q))\n",
    "\n",
    "#c.tables['a']._project(['a', '=', 5]).printall()\n",
    "c.handler(q)"
   ]
  },
  {
   "cell_type": "code",
   "execution_count": null,
   "metadata": {},
   "outputs": [],
   "source": [
    "q = '''\n",
    "SELECT *\n",
    "FROM A A1, A A2\n",
    "WHERE A1.a > A2.a\n",
    "'''\n",
    "c.handler(q)"
   ]
  },
  {
   "cell_type": "code",
   "execution_count": null,
   "metadata": {},
   "outputs": [],
   "source": [
    "q = '''\n",
    "SELECT A.a, C.a\n",
    "FROM A, C\n",
    "WHERE A.a > C.a\n",
    "'''\n",
    "c.handler(q)"
   ]
  },
  {
   "cell_type": "markdown",
   "metadata": {},
   "source": [
    "### Index"
   ]
  },
  {
   "cell_type": "code",
   "execution_count": null,
   "metadata": {},
   "outputs": [],
   "source": [
    "q = '''\n",
    "CREATE INDEX a1 ON C (a)\n",
    "'''\n",
    "c.handler(q)"
   ]
  },
  {
   "cell_type": "code",
   "execution_count": null,
   "metadata": {},
   "outputs": [],
   "source": [
    "q = '''\n",
    "SELECT A.a, C.a\n",
    "FROM A, C\n",
    "WHERE A.a > C.a\n",
    "'''\n",
    "c.handler(q)"
   ]
  },
  {
   "cell_type": "markdown",
   "metadata": {},
   "source": [
    "### Create table & Foreign key constraints"
   ]
  },
  {
   "cell_type": "code",
   "execution_count": null,
   "metadata": {},
   "outputs": [],
   "source": [
    "q = '''\n",
    "CREATE TABLE E (\n",
    "    a int, \n",
    "    b int,\n",
    "    PRIMARY KEY (b),\n",
    "    FOREIGN KEY a REFERENCES A(a) ON DELETE CASCADE,\n",
    ");\n",
    "CREATE TABLE F (\n",
    "    a int, \n",
    "    b int,\n",
    "    PRIMARY KEY (b),\n",
    "    FOREIGN KEY a REFERENCES B(a) ON DELETE NO ACTION,\n",
    ")\n",
    "\n",
    "\n",
    "\n",
    "'''\n",
    "c.handler(q)"
   ]
  },
  {
   "cell_type": "code",
   "execution_count": null,
   "metadata": {},
   "outputs": [],
   "source": [
    "q = '''\n",
    "INSERT INTO E\n",
    "VALUES (1, 2);\n",
    "\n",
    "INSERT INTO F\n",
    "VALUES (2, 5)\n",
    "'''\n",
    "c.handler(q)"
   ]
  },
  {
   "cell_type": "code",
   "execution_count": null,
   "metadata": {},
   "outputs": [],
   "source": [
    "q = '''\n",
    "DELETE FROM A\n",
    "WHERE a = 1\n",
    "'''\n",
    "c.handler(q)"
   ]
  },
  {
   "cell_type": "code",
   "execution_count": null,
   "metadata": {
    "scrolled": true
   },
   "outputs": [],
   "source": [
    "q = '''\n",
    "SELECT * FROM A;\n",
    "\n",
    "SELECT * FROM E\n",
    "'''\n",
    "c.handler(q)"
   ]
  },
  {
   "cell_type": "code",
   "execution_count": null,
   "metadata": {},
   "outputs": [],
   "source": [
    "q = '''\n",
    "DELETE FROM B\n",
    "WHERE a = 2\n",
    "'''\n",
    "c.handler(q)"
   ]
  },
  {
   "cell_type": "code",
   "execution_count": null,
   "metadata": {},
   "outputs": [],
   "source": [
    "q = '''\n",
    "SELECT * FROM B;\n",
    "SELECT * FROM F\n",
    "'''\n",
    "c.handler(q)"
   ]
  },
  {
   "cell_type": "code",
   "execution_count": null,
   "metadata": {},
   "outputs": [],
   "source": [
    "q = '''\n",
    "SELECT A.a, B1.b\n",
    "FROM A, (SELECT *\n",
    "FROM B) B1\n",
    "WHERE A.a = B1.a\n",
    "'''\n",
    "\n",
    "print(c.parser.parse(q))\n",
    "c.handler(q)"
   ]
  },
  {
   "cell_type": "code",
   "execution_count": null,
   "metadata": {},
   "outputs": [],
   "source": [
    "q = '''\n",
    "SELECT A.a, B.b\n",
    "FROM A, B\n",
    "WHERE A.a = B.a\n",
    "'''\n",
    "c.handler(q)"
   ]
  },
  {
   "cell_type": "code",
   "execution_count": null,
   "metadata": {},
   "outputs": [],
   "source": []
  }
 ],
 "metadata": {
  "kernelspec": {
   "display_name": "Python 3",
   "language": "python",
   "name": "python3"
  },
  "language_info": {
   "codemirror_mode": {
    "name": "ipython",
    "version": 3
   },
   "file_extension": ".py",
   "mimetype": "text/x-python",
   "name": "python",
   "nbconvert_exporter": "python",
   "pygments_lexer": "ipython3",
   "version": "3.6.4"
  }
 },
 "nbformat": 4,
 "nbformat_minor": 2
}
