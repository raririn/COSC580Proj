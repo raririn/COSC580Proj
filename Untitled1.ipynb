{
 "cells": [
  {
   "cell_type": "code",
   "execution_count": 1,
   "metadata": {},
   "outputs": [],
   "source": [
    "from src.table import Table\n",
    "from core import Core\n",
    "from copy import deepcopy"
   ]
  },
  {
   "cell_type": "code",
   "execution_count": 2,
   "metadata": {},
   "outputs": [
    {
     "data": {
      "text/plain": [
       "0"
      ]
     },
     "execution_count": 2,
     "metadata": {},
     "output_type": "execute_result"
    }
   ],
   "source": [
    "c = Core()\n",
    "c._create_table('T', ['a', 'b', 'c'], ['int', 'int', 'int'], 'b', None)\n",
    "c._create_table('K', ['a', 'b', 'c'], ['int', 'int', 'int'], 'c', ['b', 'T', 'b', Table.ONDELETE_NOACTION])\n",
    "\n",
    "create_script = {\n",
    "    'name': 'M',\n",
    "    'col_names': ['a', 'b', 'c', 'd'],\n",
    "    'dtype': ['int', 'int', 'int', 'int'],\n",
    "    'primary_key': ['a', 'b'],\n",
    "    'foreign_key': ['c', 'T', 'a', 'NOACTION'],\n",
    "    \n",
    "}\n",
    "c.execute_create_table(create_script)"
   ]
  },
  {
   "cell_type": "code",
   "execution_count": 3,
   "metadata": {},
   "outputs": [
    {
     "data": {
      "text/plain": [
       "0"
      ]
     },
     "execution_count": 3,
     "metadata": {},
     "output_type": "execute_result"
    }
   ],
   "source": [
    "c.tables['T']._insert((1,2,3))\n",
    "c.tables['T']._insert((1,5,3))\n",
    "c.tables['T']._insert((1,12,100))\n",
    "c.tables['T']._insert((2,13,100))\n",
    "c.tables['T']._insert((5,176,100))\n",
    "c.tables['T']._insert((2,15,100))\n",
    "c.tables['T']._insert((777,124124,101242140))\n",
    "c.tables['K']._insert((2,2,1))\n",
    "c.tables['K']._insert((2,4,3))\n",
    "c.tables['K']._insert((1,99,5))\n",
    "c.tables['K']._insert((2,12,100))\n",
    "c.tables['K']._insert((5,176,150))\n",
    "c.tables['K']._insert((5,-1,110))\n",
    "c.tables['K']._insert((5,0,17))\n",
    "\n",
    "\n",
    "insert_script = {\n",
    "    'insert_into': 'M',\n",
    "    'values': [\n",
    "        (1,2,3,4),\n",
    "        (2,3,4,5),\n",
    "        (4,5,6,7),\n",
    "        (6,7,8,9)\n",
    "    ],\n",
    "}\n",
    "c.execute_insert(insert_script)"
   ]
  },
  {
   "cell_type": "code",
   "execution_count": 4,
   "metadata": {},
   "outputs": [
    {
     "name": "stdout",
     "output_type": "stream",
     "text": [
      "Table <K>\n",
      "Primary key: ['c']\n",
      "['a: int', 'b: int', 'c: int']\n",
      "(1,) (2, 2, 1)\n",
      "(3,) (2, 4, 3)\n",
      "(5,) (1, 99, 5)\n",
      "(100,) (2, 12, 100)\n",
      "(150,) (5, 176, 150)\n",
      "(110,) (5, -1, 110)\n",
      "(17,) (5, 0, 17)\n"
     ]
    },
    {
     "data": {
      "text/plain": [
       "-1"
      ]
     },
     "execution_count": 4,
     "metadata": {},
     "output_type": "execute_result"
    }
   ],
   "source": [
    "delete_d = {\n",
    "    'from': 'T',\n",
    "    'where': ['c', '=', 3]\n",
    "}\n",
    "c.execute_delete(delete_d)"
   ]
  },
  {
   "cell_type": "code",
   "execution_count": 5,
   "metadata": {},
   "outputs": [
    {
     "name": "stdout",
     "output_type": "stream",
     "text": [
      "Table <T>\n",
      "Primary key: ['b']\n",
      "['a: int', 'b: int', 'c: int']\n",
      "(2,) (1, 2, 3)\n",
      "(5,) (1, 5, 3)\n",
      "(12,) (1, 12, 100)\n",
      "(13,) (2, 13, 100)\n",
      "(176,) (5, 176, 100)\n",
      "(15,) (2, 15, 100)\n",
      "(124124,) (777, 124124, 101242140)\n",
      "Table <K>\n",
      "Primary key: ['c']\n",
      "['a: int', 'b: int', 'c: int']\n",
      "(1,) (2, 2, 1)\n",
      "(3,) (2, 4, 3)\n",
      "(5,) (1, 99, 5)\n",
      "(100,) (2, 12, 100)\n",
      "(150,) (5, 176, 150)\n",
      "(110,) (5, -1, 110)\n",
      "(17,) (5, 0, 17)\n",
      "Table <M>\n",
      "Primary key: ['a', 'b']\n",
      "['a: int', 'b: int', 'c: int', 'd: int']\n",
      "(1, 2) (1, 2, 3, 4)\n",
      "(2, 3) (2, 3, 4, 5)\n",
      "(4, 5) (4, 5, 6, 7)\n",
      "(6, 7) (6, 7, 8, 9)\n"
     ]
    }
   ],
   "source": [
    "c.tables['T'].printall()\n",
    "c.tables['K'].printall()\n",
    "c.tables['M'].printall()"
   ]
  },
  {
   "cell_type": "code",
   "execution_count": 6,
   "metadata": {
    "scrolled": true
   },
   "outputs": [
    {
     "data": {
      "text/plain": [
       "{'query': {'select': {'columns': ['a1', 'a2.c'],\n",
       "   'aggr_func': [],\n",
       "   'distinct': []},\n",
       "  'from': ['a1', 'a2', 'b1'],\n",
       "  'where': {'joins': [['a1.a', '=', 'a2.b']], 'conditions': []},\n",
       "  'groupby': [],\n",
       "  'orderby': [['a1.a', False], ['a2.c', True]]},\n",
       " 'tables': {'a1': 't', 'a2': 't', 'b1': 'k'},\n",
       " 'columns': {'a1': 'a1.a', 'a2.c': 'a2.c'}}"
      ]
     },
     "execution_count": 6,
     "metadata": {},
     "output_type": "execute_result"
    }
   ],
   "source": [
    "query = '''SELECT A1.a AS a1, A2.c\n",
    "FROM T A1, T A2, K B1\n",
    "WHERE A1.a = A2.b\n",
    "ORDER BY A1.a DESC, A2.c'''\n",
    "\n",
    "q1 = c.parser.parse(query)\n",
    "q1"
   ]
  },
  {
   "cell_type": "code",
   "execution_count": 10,
   "metadata": {},
   "outputs": [
    {
     "name": "stdout",
     "output_type": "stream",
     "text": [
      "{'query': {'select': {'columns': ['a1', 'a2.c', 'b1.b'], 'aggr_func': [], 'distinct': []}, 'from': ['a1', 'a2', 'b1'], 'where': {'joins': [['a1.a', '=', 'a2.b'], ['a1.a', '>', 'b1.b']], 'conditions': []}, 'groupby': [], 'orderby': [['b1.b', False]]}, 'tables': {'a1': 't', 'a2': 't', 'b1': 'k'}, 'columns': {'a1': 'a1.a', 'a2.c': 'a2.c', 'b1.b': 'b1.b'}}\n"
     ]
    }
   ],
   "source": [
    "query = '''\n",
    "SELECT A1.a AS a1, A2.c, B1.b\n",
    "FROM T A1, T A2, K B1\n",
    "WHERE A1.a = A2.b AND A1.a > B1.b\n",
    "ORDER BY B1.b DESC\n",
    "'''\n",
    "\n",
    "q3 = c.parser.parse(query)\n",
    "\n",
    "print(q3)\n",
    "\n",
    "'''\n",
    "SELECT SUM(a) AS a1\n",
    "FROM T\n",
    "GROUP BY a, c\n",
    "ORDER BY a\n",
    "'''\n",
    "\n",
    "q4 = {\n",
    "    'query': {\n",
    "        'select': {\n",
    "            'columns': ['a1', 'b' ,'c'],\n",
    "            'aggr_func': ['sum', 'a1'],\n",
    "            'distinct': [],\n",
    "        },\n",
    "        'from': ['T'],\n",
    "        'where': {\n",
    "            'joins': [],\n",
    "            'conditions': []\n",
    "        },\n",
    "        'groupby': ['b', 'c'],\n",
    "        'orderby': [['a'], True],\n",
    "    },\n",
    "    'tables': {\n",
    "        'T' : 'T',\n",
    "    },\n",
    "    'columns': {\n",
    "        'a1': 'a',\n",
    "        'b': 'b',\n",
    "        'c': 'c',\n",
    "    },\n",
    "}\n",
    "\n",
    "q5 = {\n",
    "    'query': {\n",
    "        'select': {\n",
    "            'columns': ['*'],\n",
    "            'aggr_func': [],\n",
    "            'distinct': [],\n",
    "        },\n",
    "        'from': ['T'],\n",
    "        'where': {\n",
    "            'joins': [],\n",
    "            'conditions': []\n",
    "        },\n",
    "        'groupby': [],\n",
    "        'orderby': [],\n",
    "    },\n",
    "    'tables': {\n",
    "        'T' : 'T',\n",
    "    },\n",
    "    'columns': {\n",
    "        'a': 'a',\n",
    "        'b': 'b',\n",
    "        'c': 'c',\n",
    "    },\n",
    "}"
   ]
  },
  {
   "cell_type": "code",
   "execution_count": 11,
   "metadata": {},
   "outputs": [
    {
     "name": "stdout",
     "output_type": "stream",
     "text": [
      "[0, 1] [-1, 1] [['a1.a', False], ['a2.c', True]] ['a1.a', 'a1.b', 'a1.c', 'a2.a', 'a2.b', 'a2.c', 'a1.a', 'a1.b', 'a1.c', 'a2.a', 'a2.b', 'a2.c']\n",
      "Table <1575256784.943402>\n",
      "Primary key: []\n",
      "['a1: int', 'a2.c: int']\n",
      "0 (5, 3)\n",
      "1 (2, 3)\n"
     ]
    }
   ],
   "source": [
    "c.execute_select(q1).printall()"
   ]
  },
  {
   "cell_type": "code",
   "execution_count": 12,
   "metadata": {
    "scrolled": true
   },
   "outputs": [
    {
     "name": "stdout",
     "output_type": "stream",
     "text": [
      "[2] [-1] [['b1.b', False]] ['a1.a', 'a1.b', 'a1.c', 'a2.a', 'a2.b', 'a2.c', 'b1.a', 'b1.b', 'b1.c']\n",
      "Table <1575256785.2886264>\n",
      "Primary key: []\n",
      "['a1: int', 'a2.c: int', 'b1.b: int']\n",
      "0 (5, 3, 4)\n",
      "1 (5, 3, 2)\n",
      "2 (2, 3, 0)\n",
      "3 (5, 3, 0)\n",
      "4 (2, 3, -1)\n",
      "5 (5, 3, -1)\n"
     ]
    }
   ],
   "source": [
    "c.execute_select(q3).printall()"
   ]
  },
  {
   "cell_type": "code",
   "execution_count": 13,
   "metadata": {},
   "outputs": [
    {
     "ename": "TypeError",
     "evalue": "'bool' object is not subscriptable",
     "output_type": "error",
     "traceback": [
      "\u001b[1;31m---------------------------------------------------------------------------\u001b[0m",
      "\u001b[1;31mTypeError\u001b[0m                                 Traceback (most recent call last)",
      "\u001b[1;32m<ipython-input-13-7e914b1df4ed>\u001b[0m in \u001b[0;36m<module>\u001b[1;34m\u001b[0m\n\u001b[0;32m      1\u001b[0m \u001b[0manother_q4\u001b[0m \u001b[1;33m=\u001b[0m \u001b[0mdeepcopy\u001b[0m\u001b[1;33m(\u001b[0m\u001b[0mq4\u001b[0m\u001b[1;33m)\u001b[0m\u001b[1;33m\u001b[0m\u001b[1;33m\u001b[0m\u001b[0m\n\u001b[1;32m----> 2\u001b[1;33m \u001b[0mc\u001b[0m\u001b[1;33m.\u001b[0m\u001b[0mexecute_select\u001b[0m\u001b[1;33m(\u001b[0m\u001b[0mq4\u001b[0m\u001b[1;33m)\u001b[0m\u001b[1;33m.\u001b[0m\u001b[0mprintall\u001b[0m\u001b[1;33m(\u001b[0m\u001b[1;33m)\u001b[0m\u001b[1;33m\u001b[0m\u001b[1;33m\u001b[0m\u001b[0m\n\u001b[0m\u001b[0;32m      3\u001b[0m \u001b[0mc\u001b[0m\u001b[1;33m.\u001b[0m\u001b[0mexecute_select\u001b[0m\u001b[1;33m(\u001b[0m\u001b[0manother_q4\u001b[0m\u001b[1;33m)\u001b[0m\u001b[1;33m.\u001b[0m\u001b[0mformatout\u001b[0m\u001b[1;33m(\u001b[0m\u001b[1;33m)\u001b[0m\u001b[1;33m\u001b[0m\u001b[1;33m\u001b[0m\u001b[0m\n",
      "\u001b[1;32mG:\\dev\\COSC580Proj\\core.py\u001b[0m in \u001b[0;36mexecute_select\u001b[1;34m(self, d)\u001b[0m\n\u001b[0;32m    219\u001b[0m         \u001b[1;32mif\u001b[0m \u001b[0mcur_table\u001b[0m \u001b[1;33m==\u001b[0m \u001b[1;33m-\u001b[0m\u001b[1;36m1\u001b[0m\u001b[1;33m:\u001b[0m\u001b[1;33m\u001b[0m\u001b[1;33m\u001b[0m\u001b[0m\n\u001b[0;32m    220\u001b[0m             \u001b[1;32mraise\u001b[0m \u001b[0mException\u001b[0m\u001b[1;33m(\u001b[0m\u001b[1;34m''\u001b[0m\u001b[1;33m)\u001b[0m\u001b[1;33m\u001b[0m\u001b[1;33m\u001b[0m\u001b[0m\n\u001b[1;32m--> 221\u001b[1;33m         \u001b[0mcur_table\u001b[0m \u001b[1;33m=\u001b[0m \u001b[0mcur_table\u001b[0m\u001b[1;33m.\u001b[0m\u001b[0m_select\u001b[0m\u001b[1;33m(\u001b[0m\u001b[0mcolumns\u001b[0m\u001b[1;33m,\u001b[0m \u001b[0mdistinct\u001b[0m \u001b[1;33m=\u001b[0m \u001b[0mdistinct\u001b[0m\u001b[1;33m,\u001b[0m \u001b[0maggr_func\u001b[0m \u001b[1;33m=\u001b[0m \u001b[0maggr_func\u001b[0m\u001b[1;33m,\u001b[0m \u001b[0morderby\u001b[0m \u001b[1;33m=\u001b[0m \u001b[0morderby\u001b[0m\u001b[1;33m,\u001b[0m \u001b[0mgroupby\u001b[0m \u001b[1;33m=\u001b[0m \u001b[0mgroupby\u001b[0m\u001b[1;33m)\u001b[0m\u001b[1;33m\u001b[0m\u001b[1;33m\u001b[0m\u001b[0m\n\u001b[0m\u001b[0;32m    222\u001b[0m         \u001b[0mreverse_columns_name_map\u001b[0m \u001b[1;33m=\u001b[0m \u001b[1;33m{\u001b[0m\u001b[1;33m}\u001b[0m\u001b[1;33m\u001b[0m\u001b[1;33m\u001b[0m\u001b[0m\n\u001b[0;32m    223\u001b[0m         \u001b[1;32mfor\u001b[0m \u001b[0mk\u001b[0m\u001b[1;33m,\u001b[0m \u001b[0mv\u001b[0m \u001b[1;32min\u001b[0m \u001b[0md\u001b[0m\u001b[1;33m[\u001b[0m\u001b[1;34m'columns'\u001b[0m\u001b[1;33m]\u001b[0m\u001b[1;33m.\u001b[0m\u001b[0mitems\u001b[0m\u001b[1;33m(\u001b[0m\u001b[1;33m)\u001b[0m\u001b[1;33m:\u001b[0m\u001b[1;33m\u001b[0m\u001b[1;33m\u001b[0m\u001b[0m\n",
      "\u001b[1;32mG:\\dev\\COSC580Proj\\src\\table.py\u001b[0m in \u001b[0;36m_select\u001b[1;34m(self, col_names, distinct, aggr_func, alias, orderby, groupby)\u001b[0m\n\u001b[0;32m    439\u001b[0m \u001b[1;33m\u001b[0m\u001b[0m\n\u001b[0;32m    440\u001b[0m         \u001b[1;32mif\u001b[0m \u001b[0morderby\u001b[0m\u001b[1;33m:\u001b[0m\u001b[1;33m\u001b[0m\u001b[1;33m\u001b[0m\u001b[0m\n\u001b[1;32m--> 441\u001b[1;33m             \u001b[0mlocs\u001b[0m \u001b[1;33m=\u001b[0m \u001b[1;33m[\u001b[0m\u001b[0mnew_col_names\u001b[0m\u001b[1;33m.\u001b[0m\u001b[0mindex\u001b[0m\u001b[1;33m(\u001b[0m\u001b[0mi\u001b[0m\u001b[1;33m[\u001b[0m\u001b[1;36m0\u001b[0m\u001b[1;33m]\u001b[0m\u001b[1;33m)\u001b[0m \u001b[1;32mfor\u001b[0m \u001b[0mi\u001b[0m \u001b[1;32min\u001b[0m \u001b[0morderby\u001b[0m\u001b[1;33m]\u001b[0m\u001b[1;33m\u001b[0m\u001b[1;33m\u001b[0m\u001b[0m\n\u001b[0m\u001b[0;32m    442\u001b[0m             \u001b[0mdesc_flags\u001b[0m \u001b[1;33m=\u001b[0m \u001b[1;33m[\u001b[0m\u001b[1;36m1\u001b[0m \u001b[1;32mif\u001b[0m \u001b[0mi\u001b[0m\u001b[1;33m[\u001b[0m\u001b[1;36m1\u001b[0m\u001b[1;33m]\u001b[0m \u001b[1;32melse\u001b[0m \u001b[1;33m-\u001b[0m\u001b[1;36m1\u001b[0m \u001b[1;32mfor\u001b[0m \u001b[0mi\u001b[0m \u001b[1;32min\u001b[0m \u001b[0morderby\u001b[0m\u001b[1;33m]\u001b[0m\u001b[1;33m\u001b[0m\u001b[1;33m\u001b[0m\u001b[0m\n\u001b[0;32m    443\u001b[0m             \u001b[0mprint\u001b[0m\u001b[1;33m(\u001b[0m\u001b[0mlocs\u001b[0m\u001b[1;33m,\u001b[0m \u001b[0mdesc_flags\u001b[0m\u001b[1;33m,\u001b[0m \u001b[0morderby\u001b[0m\u001b[1;33m,\u001b[0m \u001b[0mself\u001b[0m\u001b[1;33m.\u001b[0m\u001b[0m_col_names\u001b[0m\u001b[1;33m)\u001b[0m\u001b[1;33m\u001b[0m\u001b[1;33m\u001b[0m\u001b[0m\n",
      "\u001b[1;32mG:\\dev\\COSC580Proj\\src\\table.py\u001b[0m in \u001b[0;36m<listcomp>\u001b[1;34m(.0)\u001b[0m\n\u001b[0;32m    439\u001b[0m \u001b[1;33m\u001b[0m\u001b[0m\n\u001b[0;32m    440\u001b[0m         \u001b[1;32mif\u001b[0m \u001b[0morderby\u001b[0m\u001b[1;33m:\u001b[0m\u001b[1;33m\u001b[0m\u001b[1;33m\u001b[0m\u001b[0m\n\u001b[1;32m--> 441\u001b[1;33m             \u001b[0mlocs\u001b[0m \u001b[1;33m=\u001b[0m \u001b[1;33m[\u001b[0m\u001b[0mnew_col_names\u001b[0m\u001b[1;33m.\u001b[0m\u001b[0mindex\u001b[0m\u001b[1;33m(\u001b[0m\u001b[0mi\u001b[0m\u001b[1;33m[\u001b[0m\u001b[1;36m0\u001b[0m\u001b[1;33m]\u001b[0m\u001b[1;33m)\u001b[0m \u001b[1;32mfor\u001b[0m \u001b[0mi\u001b[0m \u001b[1;32min\u001b[0m \u001b[0morderby\u001b[0m\u001b[1;33m]\u001b[0m\u001b[1;33m\u001b[0m\u001b[1;33m\u001b[0m\u001b[0m\n\u001b[0m\u001b[0;32m    442\u001b[0m             \u001b[0mdesc_flags\u001b[0m \u001b[1;33m=\u001b[0m \u001b[1;33m[\u001b[0m\u001b[1;36m1\u001b[0m \u001b[1;32mif\u001b[0m \u001b[0mi\u001b[0m\u001b[1;33m[\u001b[0m\u001b[1;36m1\u001b[0m\u001b[1;33m]\u001b[0m \u001b[1;32melse\u001b[0m \u001b[1;33m-\u001b[0m\u001b[1;36m1\u001b[0m \u001b[1;32mfor\u001b[0m \u001b[0mi\u001b[0m \u001b[1;32min\u001b[0m \u001b[0morderby\u001b[0m\u001b[1;33m]\u001b[0m\u001b[1;33m\u001b[0m\u001b[1;33m\u001b[0m\u001b[0m\n\u001b[0;32m    443\u001b[0m             \u001b[0mprint\u001b[0m\u001b[1;33m(\u001b[0m\u001b[0mlocs\u001b[0m\u001b[1;33m,\u001b[0m \u001b[0mdesc_flags\u001b[0m\u001b[1;33m,\u001b[0m \u001b[0morderby\u001b[0m\u001b[1;33m,\u001b[0m \u001b[0mself\u001b[0m\u001b[1;33m.\u001b[0m\u001b[0m_col_names\u001b[0m\u001b[1;33m)\u001b[0m\u001b[1;33m\u001b[0m\u001b[1;33m\u001b[0m\u001b[0m\n",
      "\u001b[1;31mTypeError\u001b[0m: 'bool' object is not subscriptable"
     ]
    }
   ],
   "source": [
    "another_q4 = deepcopy(q4)\n",
    "c.execute_select(q4).printall()\n",
    "c.execute_select(another_q4).formatout()"
   ]
  },
  {
   "cell_type": "code",
   "execution_count": null,
   "metadata": {},
   "outputs": [],
   "source": [
    "another_q5 = deepcopy(q5)\n",
    "c.execute_select(q5).printall()\n",
    "c.execute_select(another_q5).formatout()"
   ]
  },
  {
   "cell_type": "code",
   "execution_count": null,
   "metadata": {},
   "outputs": [],
   "source": [
    "c.tables['T']._union(c.tables['K']).printall()"
   ]
  },
  {
   "cell_type": "code",
   "execution_count": null,
   "metadata": {},
   "outputs": [],
   "source": [
    "c.tables['T']._join(c.tables['T'], ['a', '=', 'b'], override_colname = Table.OVERRIDE_COLNAME_BOTH).printall()"
   ]
  },
  {
   "cell_type": "code",
   "execution_count": null,
   "metadata": {},
   "outputs": [],
   "source": [
    "c.tables['T'].printall()\n",
    "c.tables['K'].printall()"
   ]
  },
  {
   "cell_type": "code",
   "execution_count": null,
   "metadata": {},
   "outputs": [],
   "source": []
  }
 ],
 "metadata": {
  "kernelspec": {
   "display_name": "Python 3",
   "language": "python",
   "name": "python3"
  },
  "language_info": {
   "codemirror_mode": {
    "name": "ipython",
    "version": 3
   },
   "file_extension": ".py",
   "mimetype": "text/x-python",
   "name": "python",
   "nbconvert_exporter": "python",
   "pygments_lexer": "ipython3",
   "version": "3.7.3"
  }
 },
 "nbformat": 4,
 "nbformat_minor": 2
}
