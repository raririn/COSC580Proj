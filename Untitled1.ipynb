{
 "cells": [
  {
   "cell_type": "code",
   "execution_count": 1,
   "metadata": {},
   "outputs": [],
   "source": [
    "from src.table import Table"
   ]
  },
  {
   "cell_type": "code",
   "execution_count": 2,
   "metadata": {},
   "outputs": [],
   "source": [
    "d = {\n",
    "    'SELECT': [[None, 'a'], [None, 'b']],\n",
    "    'FROM': ['t'],\n",
    "    'WHERE': ['a', '=', 1],\n",
    "    'ORDERBY': ['a', False],\n",
    "    'GROUPBY': None,\n",
    "}"
   ]
  },
  {
   "cell_type": "code",
   "execution_count": 3,
   "metadata": {},
   "outputs": [
    {
     "data": {
      "text/plain": [
       "0"
      ]
     },
     "execution_count": 3,
     "metadata": {},
     "output_type": "execute_result"
    }
   ],
   "source": [
    "t = Table(name = 't', col_names = ['a', 'b', 'c'], dtype = ['int', 'int', 'int'], primary_key = 'b', tuples = {3: (1, 3, 9)})\n",
    "t._insert((1,2,3))\n",
    "t._insert((1,5,3))\n",
    "t._insert((1,12,100))\n",
    "t._insert((2,13,100))\n",
    "t._insert((5,176,100))\n",
    "t._insert((2,15,100))\n",
    "t._insert((777,124124,101242140))"
   ]
  },
  {
   "cell_type": "code",
   "execution_count": 4,
   "metadata": {},
   "outputs": [
    {
     "name": "stdout",
     "output_type": "stream",
     "text": [
      "Primary key: b\n",
      "['a: int', 'b: int', 'c: int']\n",
      "3 (1, 3, 9)\n",
      "2 (1, 2, 3)\n",
      "5 (1, 5, 3)\n",
      "12 (1, 12, 100)\n",
      "13 (2, 13, 100)\n",
      "176 (5, 176, 100)\n",
      "15 (2, 15, 100)\n",
      "124124 (777, 124124, 101242140)\n"
     ]
    }
   ],
   "source": [
    "t.printall()"
   ]
  },
  {
   "cell_type": "code",
   "execution_count": 5,
   "metadata": {},
   "outputs": [],
   "source": [
    "def execute(d: dict, t):\n",
    "    if len(d['FROM']) == 1:\n",
    "        extract_cols = [i[1] for i in d['SELECT']]\n",
    "        aggr_func = None\n",
    "        distinct_flag = None\n",
    "        for i in d['SELECT']:\n",
    "            if i[0] and (i[0] != 'DISTINCT'):\n",
    "                aggr_func = i\n",
    "            elif i[0] and (i[0] == 'DISTINCT'):\n",
    "                distinct_flag = i\n",
    "        sel = t._select(col_names = extract_cols, distinct = distinct_flag, aggr_func = aggr_func, orderby = d['ORDERBY'], groupby = d['GROUPBY'])\n",
    "        return sel._project(d['WHERE'])"
   ]
  },
  {
   "cell_type": "code",
   "execution_count": 6,
   "metadata": {},
   "outputs": [
    {
     "name": "stdout",
     "output_type": "stream",
     "text": [
      "Primary key: None\n",
      "['a: int']\n",
      "0 (1, 3)\n",
      "1 (1, 2)\n",
      "2 (1, 5)\n",
      "3 (1, 12)\n"
     ]
    }
   ],
   "source": [
    "execute(d, t).printall()"
   ]
  },
  {
   "cell_type": "code",
   "execution_count": 7,
   "metadata": {},
   "outputs": [
    {
     "data": {
      "text/plain": [
       "[[None, 'a'], [None, 'b']]"
      ]
     },
     "execution_count": 7,
     "metadata": {},
     "output_type": "execute_result"
    }
   ],
   "source": [
    "[i for i in d['SELECT']]"
   ]
  },
  {
   "cell_type": "code",
   "execution_count": null,
   "metadata": {},
   "outputs": [],
   "source": []
  }
 ],
 "metadata": {
  "kernelspec": {
   "display_name": "Python 3",
   "language": "python",
   "name": "python3"
  },
  "language_info": {
   "codemirror_mode": {
    "name": "ipython",
    "version": 3
   },
   "file_extension": ".py",
   "mimetype": "text/x-python",
   "name": "python",
   "nbconvert_exporter": "python",
   "pygments_lexer": "ipython3",
   "version": "3.7.3"
  }
 },
 "nbformat": 4,
 "nbformat_minor": 2
}
