{
 "cells": [
  {
   "cell_type": "code",
   "execution_count": 1,
   "metadata": {},
   "outputs": [],
   "source": [
    "from src.table import Table\n",
    "from core import Core\n",
    "from copy import deepcopy"
   ]
  },
  {
   "cell_type": "code",
   "execution_count": 2,
   "metadata": {},
   "outputs": [
    {
     "data": {
      "text/plain": [
       "0"
      ]
     },
     "execution_count": 2,
     "metadata": {},
     "output_type": "execute_result"
    }
   ],
   "source": [
    "c = Core()\n",
    "c._create_table('T', ['a', 'b', 'c'], ['int', 'int', 'int'], 'b', None)\n",
    "c._create_table('K', ['a', 'b', 'c'], ['int', 'int', 'int'], 'c', ['b', 'T', 'b', Table.ONDELETE_NOACTION])\n",
    "\n",
    "create_script = {\n",
    "    'name': 'M',\n",
    "    'col_names': ['a', 'b', 'c', 'd'],\n",
    "    'dtype': ['int', 'int', 'int', 'int'],\n",
    "    'primary_key': ['a', 'b'],\n",
    "    'foreign_key': ['c', 'T', 'a', 'NOACTION'],\n",
    "    \n",
    "}\n",
    "c.execute_create_table(create_script)"
   ]
  },
  {
   "cell_type": "code",
   "execution_count": 3,
   "metadata": {},
   "outputs": [
    {
     "data": {
      "text/plain": [
       "0"
      ]
     },
     "execution_count": 3,
     "metadata": {},
     "output_type": "execute_result"
    }
   ],
   "source": [
    "c.tables['T']._insert((1,2,3))\n",
    "c.tables['T']._insert((1,5,3))\n",
    "c.tables['T']._insert((1,12,100))\n",
    "c.tables['T']._insert((2,13,100))\n",
    "c.tables['T']._insert((5,176,100))\n",
    "c.tables['T']._insert((2,15,100))\n",
    "c.tables['T']._insert((777,124124,101242140))\n",
    "c.tables['K']._insert((2,2,1))\n",
    "c.tables['K']._insert((2,4,3))\n",
    "c.tables['K']._insert((1,99,5))\n",
    "c.tables['K']._insert((2,12,100))\n",
    "c.tables['K']._insert((5,176,150))\n",
    "c.tables['K']._insert((5,-1,110))\n",
    "c.tables['K']._insert((5,0,17))\n",
    "\n",
    "\n",
    "insert_script = {\n",
    "    'insert_into': 'M',\n",
    "    'values': [\n",
    "        (1,2,3,4),\n",
    "        (2,3,4,5),\n",
    "        (4,5,6,7),\n",
    "        (6,7,8,9)\n",
    "    ],\n",
    "}\n",
    "c.execute_insert(insert_script)"
   ]
  },
  {
   "cell_type": "code",
   "execution_count": 4,
   "metadata": {},
   "outputs": [
    {
     "name": "stdout",
     "output_type": "stream",
     "text": [
      "Table <K>\n",
      "Primary key: ['c']\n",
      "['a: int', 'b: int', 'c: int']\n",
      "(1,) (2, 2, 1)\n",
      "(3,) (2, 4, 3)\n",
      "(5,) (1, 99, 5)\n",
      "(100,) (2, 12, 100)\n",
      "(150,) (5, 176, 150)\n",
      "(110,) (5, -1, 110)\n",
      "(17,) (5, 0, 17)\n"
     ]
    },
    {
     "data": {
      "text/plain": [
       "-1"
      ]
     },
     "execution_count": 4,
     "metadata": {},
     "output_type": "execute_result"
    }
   ],
   "source": [
    "delete_d = {\n",
    "    'from': 'T',\n",
    "    'where': ['c', '=', 3]\n",
    "}\n",
    "c.execute_delete(delete_d)"
   ]
  },
  {
   "cell_type": "code",
   "execution_count": 5,
   "metadata": {},
   "outputs": [
    {
     "name": "stdout",
     "output_type": "stream",
     "text": [
      "Table <T>\n",
      "Primary key: ['b']\n",
      "['a: int', 'b: int', 'c: int']\n",
      "(2,) (1, 2, 3)\n",
      "(5,) (1, 5, 3)\n",
      "(12,) (1, 12, 100)\n",
      "(13,) (2, 13, 100)\n",
      "(176,) (5, 176, 100)\n",
      "(15,) (2, 15, 100)\n",
      "(124124,) (777, 124124, 101242140)\n",
      "Table <K>\n",
      "Primary key: ['c']\n",
      "['a: int', 'b: int', 'c: int']\n",
      "(1,) (2, 2, 1)\n",
      "(3,) (2, 4, 3)\n",
      "(5,) (1, 99, 5)\n",
      "(100,) (2, 12, 100)\n",
      "(150,) (5, 176, 150)\n",
      "(110,) (5, -1, 110)\n",
      "(17,) (5, 0, 17)\n",
      "Table <M>\n",
      "Primary key: ['a', 'b']\n",
      "['a: int', 'b: int', 'c: int', 'd: int']\n",
      "(1, 2) (1, 2, 3, 4)\n",
      "(2, 3) (2, 3, 4, 5)\n",
      "(4, 5) (4, 5, 6, 7)\n",
      "(6, 7) (6, 7, 8, 9)\n"
     ]
    }
   ],
   "source": [
    "c.tables['T'].printall()\n",
    "c.tables['K'].printall()\n",
    "c.tables['M'].printall()"
   ]
  },
  {
   "cell_type": "code",
   "execution_count": 6,
   "metadata": {
    "scrolled": true
   },
   "outputs": [
    {
     "data": {
      "text/plain": [
       "{'query': {'select': {'columns': ['a1', 'a2.c'],\n",
       "   'aggr_func': [],\n",
       "   'distinct': []},\n",
       "  'from': ['a1', 'a2', 'b1'],\n",
       "  'where': {'joins': [['a1.a', '=', 'a2.b']], 'conditions': []},\n",
       "  'groupby': [],\n",
       "  'orderby': [['a1.a', False]]},\n",
       " 'tables': {'a1': 't', 'a2': 't', 'b1': 'k'},\n",
       " 'columns': {'a1': 'a1.a', 'a2.c': 'a2.c'}}"
      ]
     },
     "execution_count": 6,
     "metadata": {},
     "output_type": "execute_result"
    }
   ],
   "source": [
    "query = '''SELECT A1.a AS a1, A2.c\n",
    "FROM T A1, T A2, K B1\n",
    "WHERE A1.a = A2.b\n",
    "ORDER BY A1.a DESC'''\n",
    "\n",
    "q1 = c.parser.parse(query)\n",
    "q1"
   ]
  },
  {
   "cell_type": "code",
   "execution_count": 7,
   "metadata": {},
   "outputs": [],
   "source": [
    "'''\n",
    "SELECT A1.a AS a1, A2.c\n",
    "FROM T A1, T A2, K B1\n",
    "WHERE A1.a = A2.b AND A1.a > B1.b AND A1.a = 1 OR A1.a = 2\n",
    "ORDER BY A1.a DESC\n",
    "'''\n",
    "\n",
    "q3 = {\n",
    "    'query': {\n",
    "        'select': {\n",
    "            'columns': ['a1', 'A2.c'],\n",
    "            'aggr_func': [],\n",
    "            'distinct': [],\n",
    "        },\n",
    "        'from': ['A1', 'A2', 'B1'],\n",
    "        'where': {\n",
    "            'joins': [['A1.a', '=', 'A2.b'], ['A1.a', '>', 'B1.b']],\n",
    "            'conditions': [['AND', ['A1.a', '>', '2']], ['OR', ['B1.b', '=', '5']]]\n",
    "        },\n",
    "        'groupby': [],\n",
    "        'orderby': [['A1.a'], True],\n",
    "    },\n",
    "    'tables': {\n",
    "        'A1': 'T',\n",
    "        'A2': 'T',\n",
    "        'B1': 'K',\n",
    "    },\n",
    "    'columns': {\n",
    "        'a1': 'A1.a',\n",
    "        'A2.c': 'A2.c',\n",
    "    },\n",
    "}\n",
    "\n",
    "'''\n",
    "SELECT SUM(a) AS a1\n",
    "FROM T\n",
    "GROUP BY a, c\n",
    "ORDER BY a\n",
    "'''\n",
    "\n",
    "q4 = {\n",
    "    'query': {\n",
    "        'select': {\n",
    "            'columns': ['a1', 'b' ,'c'],\n",
    "            'aggr_func': ['sum', 'a1'],\n",
    "            'distinct': [],\n",
    "        },\n",
    "        'from': ['T'],\n",
    "        'where': {\n",
    "            'joins': [],\n",
    "            'conditions': []\n",
    "        },\n",
    "        'groupby': ['b', 'c'],\n",
    "        'orderby': [['a'], False],\n",
    "    },\n",
    "    'tables': {\n",
    "        'T' : 'T',\n",
    "    },\n",
    "    'columns': {\n",
    "        'a1': 'a',\n",
    "        'b': 'b',\n",
    "        'c': 'c',\n",
    "    },\n",
    "}\n",
    "\n",
    "q5 = {\n",
    "    'query': {\n",
    "        'select': {\n",
    "            'columns': ['*'],\n",
    "            'aggr_func': [],\n",
    "            'distinct': [],\n",
    "        },\n",
    "        'from': ['T'],\n",
    "        'where': {\n",
    "            'joins': [],\n",
    "            'conditions': []\n",
    "        },\n",
    "        'groupby': [],\n",
    "        'orderby': [],\n",
    "    },\n",
    "    'tables': {\n",
    "        'T' : 'T',\n",
    "    },\n",
    "    'columns': {\n",
    "        'a': 'a',\n",
    "        'b': 'b',\n",
    "        'c': 'c',\n",
    "    },\n",
    "}"
   ]
  },
  {
   "cell_type": "code",
   "execution_count": 13,
   "metadata": {},
   "outputs": [
    {
     "ename": "KeyError",
     "evalue": "False",
     "output_type": "error",
     "traceback": [
      "\u001b[1;31m---------------------------------------------------------------------------\u001b[0m",
      "\u001b[1;31mKeyError\u001b[0m                                  Traceback (most recent call last)",
      "\u001b[1;32m<ipython-input-13-59aa8111defc>\u001b[0m in \u001b[0;36m<module>\u001b[1;34m\u001b[0m\n\u001b[1;32m----> 1\u001b[1;33m \u001b[0mc\u001b[0m\u001b[1;33m.\u001b[0m\u001b[0mexecute_select\u001b[0m\u001b[1;33m(\u001b[0m\u001b[0mq1\u001b[0m\u001b[1;33m)\u001b[0m\u001b[1;33m.\u001b[0m\u001b[0mprintall\u001b[0m\u001b[1;33m(\u001b[0m\u001b[1;33m)\u001b[0m\u001b[1;33m\u001b[0m\u001b[1;33m\u001b[0m\u001b[0m\n\u001b[0m",
      "\u001b[1;32mG:\\dev\\COSC580Proj\\core.py\u001b[0m in \u001b[0;36mexecute_select\u001b[1;34m(self, d)\u001b[0m\n\u001b[0;32m    219\u001b[0m         \u001b[1;32mif\u001b[0m \u001b[0mcur_table\u001b[0m \u001b[1;33m==\u001b[0m \u001b[1;33m-\u001b[0m\u001b[1;36m1\u001b[0m\u001b[1;33m:\u001b[0m\u001b[1;33m\u001b[0m\u001b[1;33m\u001b[0m\u001b[0m\n\u001b[0;32m    220\u001b[0m             \u001b[1;32mraise\u001b[0m \u001b[0mException\u001b[0m\u001b[1;33m(\u001b[0m\u001b[1;34m''\u001b[0m\u001b[1;33m)\u001b[0m\u001b[1;33m\u001b[0m\u001b[1;33m\u001b[0m\u001b[0m\n\u001b[1;32m--> 221\u001b[1;33m         \u001b[0mcur_table\u001b[0m \u001b[1;33m=\u001b[0m \u001b[0mcur_table\u001b[0m\u001b[1;33m.\u001b[0m\u001b[0m_select\u001b[0m\u001b[1;33m(\u001b[0m\u001b[0mcolumns\u001b[0m\u001b[1;33m,\u001b[0m \u001b[0mdistinct\u001b[0m \u001b[1;33m=\u001b[0m \u001b[0mdistinct\u001b[0m\u001b[1;33m,\u001b[0m \u001b[0maggr_func\u001b[0m \u001b[1;33m=\u001b[0m \u001b[0maggr_func\u001b[0m\u001b[1;33m,\u001b[0m \u001b[0morderby\u001b[0m \u001b[1;33m=\u001b[0m \u001b[0morderby\u001b[0m\u001b[1;33m,\u001b[0m \u001b[0mgroupby\u001b[0m \u001b[1;33m=\u001b[0m \u001b[0mgroupby\u001b[0m\u001b[1;33m)\u001b[0m\u001b[1;33m\u001b[0m\u001b[1;33m\u001b[0m\u001b[0m\n\u001b[0m\u001b[0;32m    222\u001b[0m         \u001b[0mreverse_columns_name_map\u001b[0m \u001b[1;33m=\u001b[0m \u001b[1;33m{\u001b[0m\u001b[1;33m}\u001b[0m\u001b[1;33m\u001b[0m\u001b[1;33m\u001b[0m\u001b[0m\n\u001b[0;32m    223\u001b[0m         \u001b[1;32mfor\u001b[0m \u001b[0mk\u001b[0m\u001b[1;33m,\u001b[0m \u001b[0mv\u001b[0m \u001b[1;32min\u001b[0m \u001b[0md\u001b[0m\u001b[1;33m[\u001b[0m\u001b[1;34m'columns'\u001b[0m\u001b[1;33m]\u001b[0m\u001b[1;33m.\u001b[0m\u001b[0mitems\u001b[0m\u001b[1;33m(\u001b[0m\u001b[1;33m)\u001b[0m\u001b[1;33m:\u001b[0m\u001b[1;33m\u001b[0m\u001b[1;33m\u001b[0m\u001b[0m\n",
      "\u001b[1;32mG:\\dev\\COSC580Proj\\src\\table.py\u001b[0m in \u001b[0;36m_select\u001b[1;34m(self, col_names, distinct, aggr_func, alias, orderby, groupby)\u001b[0m\n\u001b[0;32m    439\u001b[0m         \u001b[1;31m# Note that groupby is prior to orderby!\u001b[0m\u001b[1;33m\u001b[0m\u001b[1;33m\u001b[0m\u001b[1;33m\u001b[0m\u001b[0m\n\u001b[0;32m    440\u001b[0m         \u001b[1;32mif\u001b[0m \u001b[0morderby\u001b[0m\u001b[1;33m:\u001b[0m\u001b[1;33m\u001b[0m\u001b[1;33m\u001b[0m\u001b[0m\n\u001b[1;32m--> 441\u001b[1;33m             \u001b[0mlocs\u001b[0m\u001b[1;33m,\u001b[0m \u001b[0mdesc_flag\u001b[0m \u001b[1;33m=\u001b[0m \u001b[1;33m[\u001b[0m\u001b[0mself\u001b[0m\u001b[1;33m.\u001b[0m\u001b[0m_col_index\u001b[0m\u001b[1;33m[\u001b[0m\u001b[0mi\u001b[0m\u001b[1;33m]\u001b[0m \u001b[1;32mfor\u001b[0m \u001b[0mi\u001b[0m \u001b[1;32min\u001b[0m \u001b[0morderby\u001b[0m\u001b[1;33m[\u001b[0m\u001b[1;36m0\u001b[0m\u001b[1;33m]\u001b[0m\u001b[1;33m]\u001b[0m\u001b[1;33m,\u001b[0m \u001b[0morderby\u001b[0m\u001b[1;33m[\u001b[0m\u001b[1;36m1\u001b[0m\u001b[1;33m]\u001b[0m\u001b[1;33m\u001b[0m\u001b[1;33m\u001b[0m\u001b[0m\n\u001b[0m\u001b[0;32m    442\u001b[0m             \u001b[1;32mif\u001b[0m \u001b[0mdesc_flag\u001b[0m\u001b[1;33m:\u001b[0m\u001b[1;33m\u001b[0m\u001b[1;33m\u001b[0m\u001b[0m\n\u001b[0;32m    443\u001b[0m                 \u001b[0mvals\u001b[0m \u001b[1;33m=\u001b[0m \u001b[0msorted\u001b[0m\u001b[1;33m(\u001b[0m\u001b[1;33m[\u001b[0m\u001b[0mv\u001b[0m \u001b[1;32mfor\u001b[0m \u001b[0m_\u001b[0m\u001b[1;33m,\u001b[0m \u001b[0mv\u001b[0m \u001b[1;32min\u001b[0m \u001b[0mret\u001b[0m\u001b[1;33m.\u001b[0m\u001b[0mitems\u001b[0m\u001b[1;33m(\u001b[0m\u001b[1;33m)\u001b[0m\u001b[1;33m]\u001b[0m\u001b[1;33m,\u001b[0m \u001b[0mkey\u001b[0m \u001b[1;33m=\u001b[0m \u001b[1;32mlambda\u001b[0m \u001b[0mx\u001b[0m\u001b[1;33m:\u001b[0m \u001b[0mtuple\u001b[0m\u001b[1;33m(\u001b[0m\u001b[1;33m[\u001b[0m\u001b[0mx\u001b[0m\u001b[1;33m[\u001b[0m\u001b[0mi\u001b[0m\u001b[1;33m]\u001b[0m \u001b[1;32mfor\u001b[0m \u001b[0mi\u001b[0m \u001b[1;32min\u001b[0m \u001b[0mlocs\u001b[0m\u001b[1;33m]\u001b[0m\u001b[1;33m)\u001b[0m\u001b[1;33m,\u001b[0m \u001b[0mreverse\u001b[0m \u001b[1;33m=\u001b[0m \u001b[1;32mTrue\u001b[0m\u001b[1;33m)\u001b[0m\u001b[1;33m\u001b[0m\u001b[1;33m\u001b[0m\u001b[0m\n",
      "\u001b[1;32mG:\\dev\\COSC580Proj\\src\\table.py\u001b[0m in \u001b[0;36m<listcomp>\u001b[1;34m(.0)\u001b[0m\n\u001b[0;32m    439\u001b[0m         \u001b[1;31m# Note that groupby is prior to orderby!\u001b[0m\u001b[1;33m\u001b[0m\u001b[1;33m\u001b[0m\u001b[1;33m\u001b[0m\u001b[0m\n\u001b[0;32m    440\u001b[0m         \u001b[1;32mif\u001b[0m \u001b[0morderby\u001b[0m\u001b[1;33m:\u001b[0m\u001b[1;33m\u001b[0m\u001b[1;33m\u001b[0m\u001b[0m\n\u001b[1;32m--> 441\u001b[1;33m             \u001b[0mlocs\u001b[0m\u001b[1;33m,\u001b[0m \u001b[0mdesc_flag\u001b[0m \u001b[1;33m=\u001b[0m \u001b[1;33m[\u001b[0m\u001b[0mself\u001b[0m\u001b[1;33m.\u001b[0m\u001b[0m_col_index\u001b[0m\u001b[1;33m[\u001b[0m\u001b[0mi\u001b[0m\u001b[1;33m]\u001b[0m \u001b[1;32mfor\u001b[0m \u001b[0mi\u001b[0m \u001b[1;32min\u001b[0m \u001b[0morderby\u001b[0m\u001b[1;33m[\u001b[0m\u001b[1;36m0\u001b[0m\u001b[1;33m]\u001b[0m\u001b[1;33m]\u001b[0m\u001b[1;33m,\u001b[0m \u001b[0morderby\u001b[0m\u001b[1;33m[\u001b[0m\u001b[1;36m1\u001b[0m\u001b[1;33m]\u001b[0m\u001b[1;33m\u001b[0m\u001b[1;33m\u001b[0m\u001b[0m\n\u001b[0m\u001b[0;32m    442\u001b[0m             \u001b[1;32mif\u001b[0m \u001b[0mdesc_flag\u001b[0m\u001b[1;33m:\u001b[0m\u001b[1;33m\u001b[0m\u001b[1;33m\u001b[0m\u001b[0m\n\u001b[0;32m    443\u001b[0m                 \u001b[0mvals\u001b[0m \u001b[1;33m=\u001b[0m \u001b[0msorted\u001b[0m\u001b[1;33m(\u001b[0m\u001b[1;33m[\u001b[0m\u001b[0mv\u001b[0m \u001b[1;32mfor\u001b[0m \u001b[0m_\u001b[0m\u001b[1;33m,\u001b[0m \u001b[0mv\u001b[0m \u001b[1;32min\u001b[0m \u001b[0mret\u001b[0m\u001b[1;33m.\u001b[0m\u001b[0mitems\u001b[0m\u001b[1;33m(\u001b[0m\u001b[1;33m)\u001b[0m\u001b[1;33m]\u001b[0m\u001b[1;33m,\u001b[0m \u001b[0mkey\u001b[0m \u001b[1;33m=\u001b[0m \u001b[1;32mlambda\u001b[0m \u001b[0mx\u001b[0m\u001b[1;33m:\u001b[0m \u001b[0mtuple\u001b[0m\u001b[1;33m(\u001b[0m\u001b[1;33m[\u001b[0m\u001b[0mx\u001b[0m\u001b[1;33m[\u001b[0m\u001b[0mi\u001b[0m\u001b[1;33m]\u001b[0m \u001b[1;32mfor\u001b[0m \u001b[0mi\u001b[0m \u001b[1;32min\u001b[0m \u001b[0mlocs\u001b[0m\u001b[1;33m]\u001b[0m\u001b[1;33m)\u001b[0m\u001b[1;33m,\u001b[0m \u001b[0mreverse\u001b[0m \u001b[1;33m=\u001b[0m \u001b[1;32mTrue\u001b[0m\u001b[1;33m)\u001b[0m\u001b[1;33m\u001b[0m\u001b[1;33m\u001b[0m\u001b[0m\n",
      "\u001b[1;31mKeyError\u001b[0m: False"
     ]
    }
   ],
   "source": [
    "c.execute_select(q1).printall()"
   ]
  },
  {
   "cell_type": "code",
   "execution_count": 12,
   "metadata": {},
   "outputs": [
    {
     "name": "stdout",
     "output_type": "stream",
     "text": [
      "{'query': {'select': {'columns': ['a1', 'A2.c'], 'aggr_func': [], 'distinct': []}, 'from': ['A1', 'A2', 'B1'], 'where': {'joins': [['A1.a', '=', 'A2.b'], ['A1.a', '>', 'B1.b']], 'conditions': [['AND', ['A1.a', '>', 2.0]], ['OR', ['B1.b', '=', 5.0]]]}, 'groupby': [], 'orderby': [['A1.a'], True]}, 'tables': {'A1': <src.table.Table object at 0x000002C9AC809D68>, 'A2': <src.table.Table object at 0x000002C9AC8099E8>, 'B1': <src.table.Table object at 0x000002C9AC809D68>}, 'columns': {'a1': 'A1.a', 'A2.c': 'A2.c'}}\n",
      "{'query': {'select': {'columns': ['a1', 'a2.c'], 'aggr_func': [], 'distinct': []}, 'from': ['a1', 'a2', 'b1'], 'where': {'joins': [['a1.a', '=', 'a2.b']], 'conditions': []}, 'groupby': [], 'orderby': [['a1.a', False]]}, 'tables': {'a1': <src.table.Table object at 0x000002C9AC7D4F28>, 'a2': <src.table.Table object at 0x000002C9AC7D4F28>, 'b1': 'k'}, 'columns': {'a1': 'a1.a', 'a2.c': 'a2.c'}}\n"
     ]
    }
   ],
   "source": [
    "print(q3)\n",
    "print(q1)"
   ]
  },
  {
   "cell_type": "code",
   "execution_count": 10,
   "metadata": {},
   "outputs": [
    {
     "name": "stdout",
     "output_type": "stream",
     "text": [
      "Table <1575241527.232309>\n",
      "Primary key: []\n",
      "['SUM(a): float', 'b: int', 'c: int']\n",
      "0 (1, 3, 2)\n",
      "1 (1, 3, 5)\n",
      "2 (1, 100, 12)\n",
      "3 (2, 100, 13)\n",
      "4 (2, 100, 15)\n",
      "5 (5, 100, 176)\n",
      "6 (777, 101242140, 124124)\n",
      "SUM(a) b c \n",
      "\n",
      "1 3 2 \n",
      "\n",
      "1 3 5 \n",
      "\n",
      "1 100 12 \n",
      "\n",
      "2 100 13 \n",
      "\n",
      "2 100 15 \n",
      "\n",
      "5 100 176 \n",
      "\n",
      "777 101242140 124124 \n",
      "\n"
     ]
    }
   ],
   "source": [
    "another_q4 = deepcopy(q4)\n",
    "c.execute_select(q4).printall()\n",
    "c.execute_select(another_q4).formatout()"
   ]
  },
  {
   "cell_type": "code",
   "execution_count": 11,
   "metadata": {},
   "outputs": [
    {
     "name": "stdout",
     "output_type": "stream",
     "text": [
      "Table <1575241527.2512987>\n",
      "Primary key: []\n",
      "['a: int', 'b: int', 'c: int']\n",
      "(2,) (1, 2, 3)\n",
      "(5,) (1, 5, 3)\n",
      "(12,) (1, 12, 100)\n",
      "(13,) (2, 13, 100)\n",
      "(176,) (5, 176, 100)\n",
      "(15,) (2, 15, 100)\n",
      "(124124,) (777, 124124, 101242140)\n",
      "a b c \n",
      "\n",
      "1 2 3 \n",
      "\n",
      "1 5 3 \n",
      "\n",
      "1 12 100 \n",
      "\n",
      "2 13 100 \n",
      "\n",
      "2 15 100 \n",
      "\n",
      "5 176 100 \n",
      "\n",
      "777 124124 101242140 \n",
      "\n"
     ]
    }
   ],
   "source": [
    "another_q5 = deepcopy(q5)\n",
    "c.execute_select(q5).printall()\n",
    "c.execute_select(another_q5).formatout()"
   ]
  },
  {
   "cell_type": "code",
   "execution_count": 12,
   "metadata": {},
   "outputs": [
    {
     "name": "stdout",
     "output_type": "stream",
     "text": [
      "Table <1575241527.2682962>\n",
      "Primary key: []\n",
      "['a: int', 'b: int', 'c: int']\n",
      "0 (1, 2, 3)\n",
      "1 (1, 5, 3)\n",
      "2 (1, 12, 100)\n",
      "3 (2, 13, 100)\n",
      "4 (5, 176, 100)\n",
      "5 (2, 15, 100)\n",
      "6 (777, 124124, 101242140)\n",
      "7 (2, 2, 1)\n",
      "8 (2, 4, 3)\n",
      "9 (1, 99, 5)\n",
      "10 (2, 12, 100)\n",
      "11 (5, 176, 150)\n",
      "12 (5, -1, 110)\n",
      "13 (5, 0, 17)\n"
     ]
    }
   ],
   "source": [
    "c.tables['T']._union(c.tables['K']).printall()"
   ]
  },
  {
   "cell_type": "code",
   "execution_count": 13,
   "metadata": {},
   "outputs": [
    {
     "name": "stdout",
     "output_type": "stream",
     "text": [
      "Table <1575241527.2832892>\n",
      "Primary key: []\n",
      "['T.a: int', 'T.b: int', 'T.c: int', 'T.a: int', 'T.b: int', 'T.c: int']\n",
      "0 (2, 13, 100, 1, 2, 3)\n",
      "1 (5, 176, 100, 1, 5, 3)\n"
     ]
    }
   ],
   "source": [
    "c.tables['T']._join(c.tables['T'], ['a', '=', 'b'], override_colname = Table.OVERRIDE_COLNAME_BOTH).printall()"
   ]
  },
  {
   "cell_type": "code",
   "execution_count": 14,
   "metadata": {},
   "outputs": [
    {
     "name": "stdout",
     "output_type": "stream",
     "text": [
      "Table <T>\n",
      "Primary key: ['b']\n",
      "['a: int', 'b: int', 'c: int']\n",
      "(2,) (1, 2, 3)\n",
      "(5,) (1, 5, 3)\n",
      "(12,) (1, 12, 100)\n",
      "(13,) (2, 13, 100)\n",
      "(176,) (5, 176, 100)\n",
      "(15,) (2, 15, 100)\n",
      "(124124,) (777, 124124, 101242140)\n",
      "Table <K>\n",
      "Primary key: ['c']\n",
      "['a: int', 'b: int', 'c: int']\n",
      "(1,) (2, 2, 1)\n",
      "(3,) (2, 4, 3)\n",
      "(5,) (1, 99, 5)\n",
      "(100,) (2, 12, 100)\n",
      "(150,) (5, 176, 150)\n",
      "(110,) (5, -1, 110)\n",
      "(17,) (5, 0, 17)\n"
     ]
    }
   ],
   "source": [
    "c.tables['T'].printall()\n",
    "c.tables['K'].printall()"
   ]
  },
  {
   "cell_type": "code",
   "execution_count": null,
   "metadata": {},
   "outputs": [],
   "source": []
  }
 ],
 "metadata": {
  "kernelspec": {
   "display_name": "Python 3",
   "language": "python",
   "name": "python3"
  },
  "language_info": {
   "codemirror_mode": {
    "name": "ipython",
    "version": 3
   },
   "file_extension": ".py",
   "mimetype": "text/x-python",
   "name": "python",
   "nbconvert_exporter": "python",
   "pygments_lexer": "ipython3",
   "version": "3.7.3"
  }
 },
 "nbformat": 4,
 "nbformat_minor": 2
}
