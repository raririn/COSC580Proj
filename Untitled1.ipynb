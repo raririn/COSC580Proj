{
 "cells": [
  {
   "cell_type": "code",
   "execution_count": 1,
   "metadata": {},
   "outputs": [],
   "source": [
    "from src.table import Table\n",
    "from core import Core\n",
    "from copy import deepcopy"
   ]
  },
  {
   "cell_type": "markdown",
   "metadata": {},
   "source": [
    "### Load DB file"
   ]
  },
  {
   "cell_type": "code",
   "execution_count": 2,
   "metadata": {},
   "outputs": [
    {
     "data": {
      "text/plain": [
       "0"
      ]
     },
     "execution_count": 2,
     "metadata": {},
     "output_type": "execute_result"
    }
   ],
   "source": [
    "c = Core()\n",
    "c.head_lines = 5\n",
    "c.return_time = True\n",
    "c.printall = False\n",
    "c._load_db('test.db')"
   ]
  },
  {
   "cell_type": "code",
   "execution_count": 3,
   "metadata": {},
   "outputs": [
    {
     "name": "stdout",
     "output_type": "stream",
     "text": [
      "Executing queries takes 0.0 seconds.\n"
     ]
    }
   ],
   "source": [
    "q = '''\n",
    "use defaultdb\n",
    "'''\n",
    "c.handler(q)"
   ]
  },
  {
   "cell_type": "markdown",
   "metadata": {},
   "source": [
    "### Simple queries"
   ]
  },
  {
   "cell_type": "code",
   "execution_count": 4,
   "metadata": {},
   "outputs": [
    {
     "name": "stdout",
     "output_type": "stream",
     "text": [
      "{'type': 'select', 'query': {'select': {'columns': ['*'], 'aggr_func': [], 'distinct': []}, 'from': ['a'], 'where': {'joins': [], 'conditions': []}, 'groupby': [], 'orderby': []}, 'tables': {'a': 'a'}, 'columns': {'*': '*'}, 'subquery': {}}\n",
      "Table <1575301553.7868898>\n",
      "2 columns, 1000 rows\n",
      "['a', 'b']\n",
      "(1, 1)\n",
      "(2, 1)\n",
      "(3, 1)\n",
      "(4, 1)\n",
      "(5, 1)\n",
      "Executing queries takes 0.1469135284423828 seconds.\n"
     ]
    }
   ],
   "source": [
    "q = '''\n",
    "SELECT * FROM A\n",
    "'''\n",
    "print(c.parser.parse(q))\n",
    "c.handler(q)"
   ]
  },
  {
   "cell_type": "markdown",
   "metadata": {},
   "source": [
    "### Joins"
   ]
  },
  {
   "cell_type": "code",
   "execution_count": 5,
   "metadata": {},
   "outputs": [
    {
     "name": "stdout",
     "output_type": "stream",
     "text": [
      "Table <1575301553.9178252>\n",
      "4 columns, 1000 rows\n",
      "['a.a', 'a.b', 'b.a', 'b.b']\n",
      "(1, 1, 1, 1)\n",
      "(2, 1, 2, 2)\n",
      "(3, 1, 3, 3)\n",
      "(4, 1, 4, 4)\n",
      "(5, 1, 5, 5)\n",
      "Executing queries takes 0.1239314079284668 seconds.\n"
     ]
    }
   ],
   "source": [
    "q = '''\n",
    "SELECT *\n",
    "FROM A, B\n",
    "WHERE A.a = B.a\n",
    "'''\n",
    "c.handler(q)"
   ]
  },
  {
   "cell_type": "code",
   "execution_count": 6,
   "metadata": {},
   "outputs": [
    {
     "name": "stdout",
     "output_type": "stream",
     "text": [
      "Table <1575301554.5844333>\n",
      "4 columns, 499500 rows\n",
      "['a1.a', 'a1.b', 'a2.a', 'a2.b']\n",
      "(2, 1, 1, 1)\n",
      "(3, 1, 1, 1)\n",
      "(3, 1, 2, 1)\n",
      "(4, 1, 1, 1)\n",
      "(4, 1, 2, 1)\n",
      "Executing queries takes 0.6815986633300781 seconds.\n"
     ]
    }
   ],
   "source": [
    "q = '''\n",
    "SELECT *\n",
    "FROM A A1, A A2\n",
    "WHERE A1.a > A2.a\n",
    "'''\n",
    "c.handler(q)"
   ]
  },
  {
   "cell_type": "code",
   "execution_count": 7,
   "metadata": {},
   "outputs": [
    {
     "name": "stdout",
     "output_type": "stream",
     "text": [
      "Table <1575301555.2770386>\n",
      "2 columns, 499500 rows\n",
      "['a.a', 'c.a']\n",
      "(2, 1)\n",
      "(3, 1)\n",
      "(3, 2)\n",
      "(4, 1)\n",
      "(4, 2)\n",
      "Executing queries takes 0.6576240062713623 seconds.\n"
     ]
    }
   ],
   "source": [
    "q = '''\n",
    "SELECT A.a, C.a\n",
    "FROM A, C\n",
    "WHERE A.a > C.a\n",
    "'''\n",
    "c.handler(q)"
   ]
  },
  {
   "cell_type": "markdown",
   "metadata": {},
   "source": [
    "### Index"
   ]
  },
  {
   "cell_type": "code",
   "execution_count": 8,
   "metadata": {},
   "outputs": [
    {
     "name": "stdout",
     "output_type": "stream",
     "text": [
      "Executing queries takes 0.020978927612304688 seconds.\n"
     ]
    }
   ],
   "source": [
    "q = '''\n",
    "CREATE INDEX a1 ON A (a)\n",
    "'''\n",
    "c.handler(q)"
   ]
  },
  {
   "cell_type": "code",
   "execution_count": 9,
   "metadata": {},
   "outputs": [
    {
     "name": "stdout",
     "output_type": "stream",
     "text": [
      "Table <1575301556.0526044>\n",
      "2 columns, 499500 rows\n",
      "['a.a', 'c.a']\n",
      "(2, 1)\n",
      "(3, 1)\n",
      "(3, 2)\n",
      "(4, 1)\n",
      "(4, 2)\n",
      "Executing queries takes 0.717599630355835 seconds.\n"
     ]
    }
   ],
   "source": [
    "q = '''\n",
    "SELECT A.a, C.a\n",
    "FROM A, C\n",
    "WHERE A.a > C.a\n",
    "'''\n",
    "c.handler(q)"
   ]
  },
  {
   "cell_type": "markdown",
   "metadata": {},
   "source": [
    "### Create table & Foreign key constraints"
   ]
  },
  {
   "cell_type": "code",
   "execution_count": 10,
   "metadata": {},
   "outputs": [
    {
     "name": "stdout",
     "output_type": "stream",
     "text": [
      "Executing queries takes 0.0 seconds.\n"
     ]
    }
   ],
   "source": [
    "q = '''\n",
    "CREATE TABLE E (\n",
    "    a int, \n",
    "    b int,\n",
    "    PRIMARY KEY (b),\n",
    "    FOREIGN KEY a REFERENCES A(a) ON DELETE CASCADE,\n",
    ");\n",
    "CREATE TABLE F (\n",
    "    a int, \n",
    "    b int,\n",
    "    PRIMARY KEY (b),\n",
    "    FOREIGN KEY a REFERENCES B(a) ON DELETE NO ACTION,\n",
    ")\n",
    "\n",
    "\n",
    "\n",
    "'''\n",
    "c.handler(q)"
   ]
  },
  {
   "cell_type": "code",
   "execution_count": 11,
   "metadata": {},
   "outputs": [
    {
     "name": "stdout",
     "output_type": "stream",
     "text": [
      "Executing queries takes 0.0 seconds.\n"
     ]
    }
   ],
   "source": [
    "q = '''\n",
    "INSERT INTO E\n",
    "VALUES (5, 2);\n",
    "\n",
    "INSERT INTO F\n",
    "VALUES (2, 5)\n",
    "'''\n",
    "c.handler(q)"
   ]
  },
  {
   "cell_type": "code",
   "execution_count": 12,
   "metadata": {},
   "outputs": [
    {
     "name": "stdout",
     "output_type": "stream",
     "text": [
      "Executing queries takes 0.0 seconds.\n"
     ]
    }
   ],
   "source": [
    "q = '''\n",
    "DELETE FROM A\n",
    "WHERE a = 5\n",
    "'''\n",
    "c.handler(q)"
   ]
  },
  {
   "cell_type": "code",
   "execution_count": 13,
   "metadata": {
    "scrolled": true
   },
   "outputs": [
    {
     "name": "stdout",
     "output_type": "stream",
     "text": [
      "Table <1575301556.2964544>\n",
      "2 columns, 999 rows\n",
      "['a', 'b']\n",
      "(1, 1)\n",
      "(2, 1)\n",
      "(3, 1)\n",
      "(4, 1)\n",
      "(6, 1)\n",
      "Table <1575301556.5093327>\n",
      "2 columns, 0 rows\n",
      "['a', 'b']\n",
      "Executing queries takes 0.3747837543487549 seconds.\n"
     ]
    }
   ],
   "source": [
    "q = '''\n",
    "SELECT * FROM A;\n",
    "\n",
    "SELECT * FROM E\n",
    "'''\n",
    "c.handler(q)"
   ]
  },
  {
   "cell_type": "code",
   "execution_count": 14,
   "metadata": {},
   "outputs": [
    {
     "name": "stdout",
     "output_type": "stream",
     "text": [
      "Executing queries takes 0.0010001659393310547 seconds.\n"
     ]
    }
   ],
   "source": [
    "q = '''\n",
    "DELETE FROM B\n",
    "WHERE a = 2\n",
    "'''\n",
    "c.handler(q)"
   ]
  },
  {
   "cell_type": "code",
   "execution_count": 15,
   "metadata": {},
   "outputs": [
    {
     "name": "stdout",
     "output_type": "stream",
     "text": [
      "Table <1575301556.708219>\n",
      "2 columns, 1000 rows\n",
      "['a', 'b']\n",
      "(1, 1)\n",
      "(2, 2)\n",
      "(3, 3)\n",
      "(4, 4)\n",
      "(5, 5)\n",
      "Table <1575301556.8581438>\n",
      "2 columns, 1 rows\n",
      "['a', 'b']\n",
      "(2, 5)\n",
      "Executing queries takes 0.3288125991821289 seconds.\n"
     ]
    }
   ],
   "source": [
    "q = '''\n",
    "SELECT * FROM B;\n",
    "SELECT * FROM F\n",
    "'''\n",
    "c.handler(q)"
   ]
  },
  {
   "cell_type": "code",
   "execution_count": 16,
   "metadata": {},
   "outputs": [
    {
     "name": "stdout",
     "output_type": "stream",
     "text": [
      "{'type': 'select', 'query': {'select': {'columns': ['a.a', 'b1.b'], 'aggr_func': [], 'distinct': []}, 'from': ['a', 'b1'], 'where': {'joins': [['a.a', '=', 'b1.a']], 'conditions': []}, 'groupby': [], 'orderby': []}, 'tables': {'a': 'a', 'b1': '1575301556.8671386'}, 'columns': {'a.a': 'a.a', 'b1.b': 'b1.b'}, 'subquery': {'1575301556.8671386': ['select', '*', 'from', 'b']}}\n"
     ]
    },
    {
     "ename": "KeyError",
     "evalue": "(5,)",
     "output_type": "error",
     "traceback": [
      "\u001b[1;31m---------------------------------------------------------------------------\u001b[0m",
      "\u001b[1;31mKeyError\u001b[0m                                  Traceback (most recent call last)",
      "\u001b[1;32m<ipython-input-16-5a2390a10e6f>\u001b[0m in \u001b[0;36m<module>\u001b[1;34m\u001b[0m\n\u001b[0;32m      7\u001b[0m \u001b[1;33m\u001b[0m\u001b[0m\n\u001b[0;32m      8\u001b[0m \u001b[0mprint\u001b[0m\u001b[1;33m(\u001b[0m\u001b[0mc\u001b[0m\u001b[1;33m.\u001b[0m\u001b[0mparser\u001b[0m\u001b[1;33m.\u001b[0m\u001b[0mparse\u001b[0m\u001b[1;33m(\u001b[0m\u001b[0mq\u001b[0m\u001b[1;33m)\u001b[0m\u001b[1;33m)\u001b[0m\u001b[1;33m\u001b[0m\u001b[1;33m\u001b[0m\u001b[0m\n\u001b[1;32m----> 9\u001b[1;33m \u001b[0mc\u001b[0m\u001b[1;33m.\u001b[0m\u001b[0mhandler\u001b[0m\u001b[1;33m(\u001b[0m\u001b[0mq\u001b[0m\u001b[1;33m)\u001b[0m\u001b[1;33m\u001b[0m\u001b[1;33m\u001b[0m\u001b[0m\n\u001b[0m",
      "\u001b[1;32mG:\\dev\\COSC580Proj\\core.py\u001b[0m in \u001b[0;36mhandler\u001b[1;34m(self, s)\u001b[0m\n\u001b[0;32m     96\u001b[0m                     \u001b[0mself\u001b[0m\u001b[1;33m.\u001b[0m\u001b[0mexecute_select\u001b[0m\u001b[1;33m(\u001b[0m\u001b[0md\u001b[0m\u001b[1;33m)\u001b[0m\u001b[1;33m.\u001b[0m\u001b[0mformatout\u001b[0m\u001b[1;33m(\u001b[0m\u001b[1;33m)\u001b[0m\u001b[1;33m\u001b[0m\u001b[1;33m\u001b[0m\u001b[0m\n\u001b[0;32m     97\u001b[0m                 \u001b[1;32melse\u001b[0m\u001b[1;33m:\u001b[0m\u001b[1;33m\u001b[0m\u001b[1;33m\u001b[0m\u001b[0m\n\u001b[1;32m---> 98\u001b[1;33m                     \u001b[0mself\u001b[0m\u001b[1;33m.\u001b[0m\u001b[0mexecute_select\u001b[0m\u001b[1;33m(\u001b[0m\u001b[0md\u001b[0m\u001b[1;33m)\u001b[0m\u001b[1;33m.\u001b[0m\u001b[0mhead\u001b[0m\u001b[1;33m(\u001b[0m\u001b[0mself\u001b[0m\u001b[1;33m.\u001b[0m\u001b[0mhead_lines\u001b[0m\u001b[1;33m)\u001b[0m\u001b[1;33m\u001b[0m\u001b[1;33m\u001b[0m\u001b[0m\n\u001b[0m\u001b[0;32m     99\u001b[0m             \u001b[1;32melif\u001b[0m \u001b[0md\u001b[0m\u001b[1;33m[\u001b[0m\u001b[1;34m'type'\u001b[0m\u001b[1;33m]\u001b[0m \u001b[1;33m==\u001b[0m \u001b[1;34m'delete'\u001b[0m\u001b[1;33m:\u001b[0m\u001b[1;33m\u001b[0m\u001b[1;33m\u001b[0m\u001b[0m\n\u001b[0;32m    100\u001b[0m                 \u001b[0mself\u001b[0m\u001b[1;33m.\u001b[0m\u001b[0mexecute_delete\u001b[0m\u001b[1;33m(\u001b[0m\u001b[0md\u001b[0m\u001b[1;33m)\u001b[0m\u001b[1;33m\u001b[0m\u001b[1;33m\u001b[0m\u001b[0m\n",
      "\u001b[1;32mG:\\dev\\COSC580Proj\\core.py\u001b[0m in \u001b[0;36mexecute_select\u001b[1;34m(self, d)\u001b[0m\n\u001b[0;32m    214\u001b[0m \u001b[1;33m\u001b[0m\u001b[0m\n\u001b[0;32m    215\u001b[0m             \u001b[1;32mif\u001b[0m \u001b[0mflag_t1_unmodified\u001b[0m \u001b[1;32mand\u001b[0m \u001b[0mflag_t2_unmodified\u001b[0m\u001b[1;33m:\u001b[0m\u001b[1;33m\u001b[0m\u001b[1;33m\u001b[0m\u001b[0m\n\u001b[1;32m--> 216\u001b[1;33m                 \u001b[0mret_table\u001b[0m \u001b[1;33m=\u001b[0m \u001b[0mt1\u001b[0m\u001b[1;33m.\u001b[0m\u001b[0m_join\u001b[0m\u001b[1;33m(\u001b[0m\u001b[0mt2\u001b[0m\u001b[1;33m,\u001b[0m \u001b[1;33m[\u001b[0m\u001b[0mc1\u001b[0m\u001b[1;33m,\u001b[0m \u001b[0moperator\u001b[0m\u001b[1;33m,\u001b[0m \u001b[0mc2\u001b[0m\u001b[1;33m]\u001b[0m\u001b[1;33m,\u001b[0m \u001b[0moverride_colname\u001b[0m \u001b[1;33m=\u001b[0m \u001b[0mTable\u001b[0m\u001b[1;33m.\u001b[0m\u001b[0mOVERRIDE_COLNAME_BOTH\u001b[0m\u001b[1;33m)\u001b[0m\u001b[1;33m\u001b[0m\u001b[1;33m\u001b[0m\u001b[0m\n\u001b[0m\u001b[0;32m    217\u001b[0m             \u001b[1;32melif\u001b[0m \u001b[1;33m(\u001b[0m\u001b[1;32mnot\u001b[0m \u001b[0mflag_t1_unmodified\u001b[0m\u001b[1;33m)\u001b[0m \u001b[1;32mand\u001b[0m \u001b[0mflag_t2_unmodified\u001b[0m\u001b[1;33m:\u001b[0m\u001b[1;33m\u001b[0m\u001b[1;33m\u001b[0m\u001b[0m\n\u001b[0;32m    218\u001b[0m                 \u001b[0mret_table\u001b[0m \u001b[1;33m=\u001b[0m \u001b[0mt1\u001b[0m\u001b[1;33m.\u001b[0m\u001b[0m_join\u001b[0m\u001b[1;33m(\u001b[0m\u001b[0mt2\u001b[0m\u001b[1;33m,\u001b[0m \u001b[1;33m[\u001b[0m\u001b[0mc1\u001b[0m\u001b[1;33m,\u001b[0m \u001b[0moperator\u001b[0m\u001b[1;33m,\u001b[0m \u001b[0mc2\u001b[0m\u001b[1;33m]\u001b[0m\u001b[1;33m,\u001b[0m \u001b[0moverride_colname\u001b[0m \u001b[1;33m=\u001b[0m \u001b[0mTable\u001b[0m\u001b[1;33m.\u001b[0m\u001b[0mOVERRIDE_COLNAME_LAST\u001b[0m\u001b[1;33m)\u001b[0m\u001b[1;33m\u001b[0m\u001b[1;33m\u001b[0m\u001b[0m\n",
      "\u001b[1;32mG:\\dev\\COSC580Proj\\src\\table.py\u001b[0m in \u001b[0;36m_join\u001b[1;34m(self, other, condition, mode, override_colname)\u001b[0m\n\u001b[0;32m    621\u001b[0m                 \u001b[1;32mfor\u001b[0m \u001b[0mnode\u001b[0m \u001b[1;32min\u001b[0m \u001b[0mlst\u001b[0m\u001b[1;33m:\u001b[0m\u001b[1;33m\u001b[0m\u001b[1;33m\u001b[0m\u001b[0m\n\u001b[0;32m    622\u001b[0m                     \u001b[1;32mfor\u001b[0m \u001b[0mk\u001b[0m \u001b[1;32min\u001b[0m \u001b[0mnode\u001b[0m\u001b[1;33m.\u001b[0m\u001b[0mkey\u001b[0m\u001b[1;33m:\u001b[0m\u001b[1;33m\u001b[0m\u001b[1;33m\u001b[0m\u001b[0m\n\u001b[1;32m--> 623\u001b[1;33m                         \u001b[0mt1_tuples\u001b[0m\u001b[1;33m.\u001b[0m\u001b[0mappend\u001b[0m\u001b[1;33m(\u001b[0m\u001b[0mself\u001b[0m\u001b[1;33m.\u001b[0m\u001b[0m_tuples\u001b[0m\u001b[1;33m[\u001b[0m\u001b[0mk\u001b[0m\u001b[1;33m]\u001b[0m\u001b[1;33m)\u001b[0m\u001b[1;33m\u001b[0m\u001b[1;33m\u001b[0m\u001b[0m\n\u001b[0m\u001b[0;32m    624\u001b[0m             \u001b[1;32melse\u001b[0m\u001b[1;33m:\u001b[0m\u001b[1;33m\u001b[0m\u001b[1;33m\u001b[0m\u001b[0m\n\u001b[0;32m    625\u001b[0m                 \u001b[0mt1_tuples\u001b[0m \u001b[1;33m=\u001b[0m \u001b[0msorted\u001b[0m\u001b[1;33m(\u001b[0m\u001b[1;33m[\u001b[0m\u001b[0mv\u001b[0m \u001b[1;32mfor\u001b[0m \u001b[0m_\u001b[0m\u001b[1;33m,\u001b[0m \u001b[0mv\u001b[0m \u001b[1;32min\u001b[0m \u001b[0mself\u001b[0m\u001b[1;33m.\u001b[0m\u001b[0m_tuples\u001b[0m\u001b[1;33m.\u001b[0m\u001b[0mitems\u001b[0m\u001b[1;33m(\u001b[0m\u001b[1;33m)\u001b[0m\u001b[1;33m]\u001b[0m\u001b[1;33m,\u001b[0m \u001b[0mkey\u001b[0m \u001b[1;33m=\u001b[0m \u001b[1;32mlambda\u001b[0m \u001b[0mx\u001b[0m\u001b[1;33m:\u001b[0m \u001b[0mx\u001b[0m\u001b[1;33m[\u001b[0m\u001b[0mloc1\u001b[0m\u001b[1;33m]\u001b[0m\u001b[1;33m)\u001b[0m\u001b[1;33m\u001b[0m\u001b[1;33m\u001b[0m\u001b[0m\n",
      "\u001b[1;31mKeyError\u001b[0m: (5,)"
     ]
    }
   ],
   "source": [
    "q = '''\n",
    "SELECT A.a, B1.b\n",
    "FROM A, (SELECT *\n",
    "FROM B) B1\n",
    "WHERE A.a = B1.a\n",
    "'''\n",
    "\n",
    "print(c.parser.parse(q))\n",
    "c.handler(q)"
   ]
  },
  {
   "cell_type": "code",
   "execution_count": null,
   "metadata": {},
   "outputs": [],
   "source": [
    "q = '''\n",
    "SELECT A.a, B.b\n",
    "FROM A, B\n",
    "WHERE A.a = B.a\n",
    "'''\n",
    "c.handler(q)"
   ]
  },
  {
   "cell_type": "code",
   "execution_count": null,
   "metadata": {},
   "outputs": [],
   "source": []
  }
 ],
 "metadata": {
  "kernelspec": {
   "display_name": "Python 3",
   "language": "python",
   "name": "python3"
  },
  "language_info": {
   "codemirror_mode": {
    "name": "ipython",
    "version": 3
   },
   "file_extension": ".py",
   "mimetype": "text/x-python",
   "name": "python",
   "nbconvert_exporter": "python",
   "pygments_lexer": "ipython3",
   "version": "3.7.3"
  }
 },
 "nbformat": 4,
 "nbformat_minor": 2
}
