{
 "cells": [
  {
   "cell_type": "code",
   "execution_count": 1,
   "metadata": {},
   "outputs": [],
   "source": [
    "from src.table import Table\n",
    "from core import Core"
   ]
  },
  {
   "cell_type": "code",
   "execution_count": 2,
   "metadata": {},
   "outputs": [
    {
     "data": {
      "text/plain": [
       "0"
      ]
     },
     "execution_count": 2,
     "metadata": {},
     "output_type": "execute_result"
    }
   ],
   "source": [
    "c = Core()\n",
    "c._create_table('T', ['a', 'b', 'c'], ['int', 'int', 'int'], 'b', None)\n",
    "c._create_table('K', ['a', 'b', 'c'], ['int', 'int', 'int'], 'c', ['b', 'T', 'b', Table.ONDELETE_NOACTION])"
   ]
  },
  {
   "cell_type": "code",
   "execution_count": 3,
   "metadata": {},
   "outputs": [
    {
     "data": {
      "text/plain": [
       "0"
      ]
     },
     "execution_count": 3,
     "metadata": {},
     "output_type": "execute_result"
    }
   ],
   "source": [
    "c.tables['T']._insert((1,2,3))\n",
    "c.tables['T']._insert((1,5,3))\n",
    "c.tables['T']._insert((1,12,100))\n",
    "c.tables['T']._insert((2,13,100))\n",
    "c.tables['T']._insert((5,176,100))\n",
    "c.tables['T']._insert((2,15,100))\n",
    "c.tables['T']._insert((777,124124,101242140))\n",
    "c.tables['K']._insert((2,2,1))\n",
    "c.tables['K']._insert((2,4,3))\n",
    "c.tables['K']._insert((1,99,5))\n",
    "c.tables['K']._insert((2,12,100))\n",
    "c.tables['K']._insert((5,176,150))\n",
    "c.tables['K']._insert((5,-1,110))\n",
    "c.tables['K']._insert((5,0,17))"
   ]
  },
  {
   "cell_type": "code",
   "execution_count": 4,
   "metadata": {},
   "outputs": [
    {
     "name": "stdout",
     "output_type": "stream",
     "text": [
      "['b', 'T', 'b', 3]\n",
      "[(777, 124124, 101242140)] 1 1\n",
      "Table <T>\n",
      "Primary key: ['b']\n",
      "['a: int', 'b: int', 'c: int']\n",
      "(2,) (1, 2, 3)\n",
      "(5,) (1, 5, 3)\n",
      "(12,) (1, 12, 100)\n",
      "(13,) (2, 13, 100)\n",
      "(176,) (5, 176, 100)\n",
      "(15,) (2, 15, 100)\n",
      "(124124,) (777, 124124, 101242140)\n"
     ]
    },
    {
     "data": {
      "text/plain": [
       "-1"
      ]
     },
     "execution_count": 4,
     "metadata": {},
     "output_type": "execute_result"
    }
   ],
   "source": [
    "delete_d = {\n",
    "    'from': 'T',\n",
    "    'where': ['c', '=', 101242140]\n",
    "}\n",
    "c.execute_delete(delete_d)"
   ]
  },
  {
   "cell_type": "code",
   "execution_count": 5,
   "metadata": {},
   "outputs": [
    {
     "name": "stdout",
     "output_type": "stream",
     "text": [
      "Table <T>\n",
      "Primary key: ['b']\n",
      "['a: int', 'b: int', 'c: int']\n",
      "(2,) (1, 2, 3)\n",
      "(5,) (1, 5, 3)\n",
      "(12,) (1, 12, 100)\n",
      "(13,) (2, 13, 100)\n",
      "(176,) (5, 176, 100)\n",
      "(15,) (2, 15, 100)\n",
      "(124124,) (777, 124124, 101242140)\n"
     ]
    }
   ],
   "source": [
    "c.tables['T'].printall()"
   ]
  },
  {
   "cell_type": "code",
   "execution_count": 6,
   "metadata": {},
   "outputs": [
    {
     "name": "stdout",
     "output_type": "stream",
     "text": [
      "Table <K>\n",
      "Primary key: ['c']\n",
      "['a: int', 'b: int', 'c: int']\n",
      "(1,) (2, 2, 1)\n",
      "(3,) (2, 4, 3)\n",
      "(5,) (1, 99, 5)\n",
      "(100,) (2, 12, 100)\n",
      "(150,) (5, 176, 150)\n",
      "(110,) (5, -1, 110)\n",
      "(17,) (5, 0, 17)\n"
     ]
    }
   ],
   "source": [
    "c.tables['K'].printall()"
   ]
  },
  {
   "cell_type": "code",
   "execution_count": 20,
   "metadata": {},
   "outputs": [
    {
     "data": {
      "text/plain": [
       "['T.a']"
      ]
     },
     "execution_count": 20,
     "metadata": {},
     "output_type": "execute_result"
    }
   ],
   "source": [
    "(q2['ORDERBY'])[0]"
   ]
  },
  {
   "cell_type": "code",
   "execution_count": 21,
   "metadata": {},
   "outputs": [],
   "source": [
    "def is_val(x):\n",
    "    try:\n",
    "        float(x)\n",
    "        return True\n",
    "    except:\n",
    "        return False\n",
    "\n",
    "def parse_where(s):\n",
    "    '''\n",
    "    s is a list of tokens\n",
    "    '''\n",
    "    i = 0\n",
    "    d = {'joins': [], 'conditions': []}\n",
    "    last_junction = None\n",
    "    while i < len(s):\n",
    "        if s[i].upper() in ['AND', 'OR']:\n",
    "            last_junction = s[i].upper()\n",
    "            i += 1\n",
    "        op0, op1, op2 = s[i], s[i+1], s[i+2]\n",
    "        if is_val(op2):\n",
    "            if last_junction:\n",
    "                d['conditions'].append([last_junction, [op0, op1, op2]])\n",
    "            else:\n",
    "                d['conditions'].append(['AND', [op0, op1, op2]])\n",
    "        else:\n",
    "            d['joins'].append([op0, op1, op2])\n",
    "        i += 3\n",
    "    return d"
   ]
  },
  {
   "cell_type": "code",
   "execution_count": 22,
   "metadata": {
    "scrolled": true
   },
   "outputs": [
    {
     "data": {
      "text/plain": [
       "{'joins': [['A.a', '=', 'B.b'], ['A.g', '=', 'C.p']],\n",
       " 'conditions': [['AND', ['A.a', '>', '1']],\n",
       "  ['AND', ['A.c', '=', '1']],\n",
       "  ['OR', ['B.d', '<', '56']],\n",
       "  ['AND', ['A.e', '=', '1']]]}"
      ]
     },
     "execution_count": 22,
     "metadata": {},
     "output_type": "execute_result"
    }
   ],
   "source": [
    "s = 'A.a > 1 AND A.a = B.b AND A.c = 1 or B.d < 56 AND A.e = 1 AND A.g = C.p'\n",
    "s = s.split()\n",
    "parse_where(s)"
   ]
  },
  {
   "cell_type": "code",
   "execution_count": 23,
   "metadata": {},
   "outputs": [],
   "source": [
    "'''\n",
    "SELECT A1.a AS a1, A2.c\n",
    "FROM T A1, T A2, K B1\n",
    "WHERE A1.a = A2.b AND A1.a > B1.b AND A1.a = 1 OR A1.a = 2\n",
    "ORDER BY A1.a\n",
    "'''\n",
    "\n",
    "q3 = {\n",
    "    'query': {\n",
    "        'select': {\n",
    "            'columns': ['a1', 'A2.c'],\n",
    "            'aggr_func': [],\n",
    "            'distinct': [],\n",
    "        },\n",
    "        'from': ['A1', 'A2', 'B1'],\n",
    "        'where': {\n",
    "            'joins': [['A1.a', '=', 'A2.b'], ['A1.a', '>', 'B1.b']],\n",
    "            'conditions': [['AND', ['A1.a', '>', '2']], ['OR', ['B1.b', '=', '5']]]\n",
    "        },\n",
    "        'groupby': [],\n",
    "        'orderby': [['A1.a'], True],\n",
    "    },\n",
    "    'tables': {\n",
    "        'A1': 'T',\n",
    "        'A2': 'T',\n",
    "        'B1': 'K',\n",
    "    },\n",
    "    'columns': {\n",
    "        'a1': 'A1.a',\n",
    "        'A2.c': 'A2.c',\n",
    "    },\n",
    "}"
   ]
  },
  {
   "cell_type": "code",
   "execution_count": 24,
   "metadata": {},
   "outputs": [
    {
     "name": "stdout",
     "output_type": "stream",
     "text": [
      "Table <1575169066.785649>\n",
      "Primary key: []\n",
      "['A1.a: int', 'A1.b: int', 'A1.c: int', 'A2.a: int', 'A2.b: int', 'A2.c: int', 'B1.a: int', 'B1.b: int', 'B1.c: int']\n",
      "0 (5, 176, 100, 1, 5, 3, 2, 4, 3)\n",
      "1 (5, 176, 100, 1, 5, 3, 5, -1, 110)\n",
      "2 (5, 176, 100, 1, 5, 3, 5, 0, 17)\n",
      "Table <1575169066.785649>\n",
      "Primary key: []\n",
      "['a1: int', 'A2.c: int']\n",
      "0 (5, 3)\n",
      "1 (5, 3)\n",
      "2 (5, 3)\n"
     ]
    }
   ],
   "source": [
    "c.execute(q3).printall()"
   ]
  },
  {
   "cell_type": "code",
   "execution_count": 25,
   "metadata": {},
   "outputs": [
    {
     "name": "stdout",
     "output_type": "stream",
     "text": [
      "Table <1575169067.320679>\n",
      "Primary key: []\n",
      "['a: int', 'b: int', 'c: int']\n",
      "0 (1, 2, 3)\n",
      "1 (1, 5, 3)\n",
      "2 (1, 12, 100)\n",
      "3 (2, 13, 100)\n",
      "4 (5, 176, 100)\n",
      "5 (2, 15, 100)\n",
      "6 (777, 124124, 101242140)\n",
      "7 (2, 4, 3)\n",
      "8 (1, 99, 5)\n",
      "9 (2, 12, 100)\n",
      "10 (5, 176, 150)\n",
      "11 (5, -1, 110)\n",
      "12 (5, 0, 17)\n"
     ]
    }
   ],
   "source": [
    "c.tables['T']._union(c.tables['K']).printall()"
   ]
  },
  {
   "cell_type": "code",
   "execution_count": 26,
   "metadata": {},
   "outputs": [
    {
     "name": "stdout",
     "output_type": "stream",
     "text": [
      "Table <1575169069.465724>\n",
      "Primary key: []\n",
      "['T.a: int', 'T.b: int', 'T.c: int', 'T.a: int', 'T.b: int', 'T.c: int']\n",
      "0 (2, 13, 100, 1, 2, 3)\n",
      "1 (5, 176, 100, 1, 5, 3)\n",
      "2 (2, 15, 100, 1, 2, 3)\n"
     ]
    }
   ],
   "source": [
    "c.tables['T']._join(c.tables['T'], ['a', '=', 'b'], override_colname = Table.OVERRIDE_COLNAME_BOTH).printall()"
   ]
  },
  {
   "cell_type": "code",
   "execution_count": 27,
   "metadata": {},
   "outputs": [
    {
     "name": "stdout",
     "output_type": "stream",
     "text": [
      "Table <T>\n",
      "Primary key: ['b']\n",
      "['a: int', 'b: int', 'c: int']\n",
      "(2,) (1, 2, 3)\n",
      "(5,) (1, 5, 3)\n",
      "(12,) (1, 12, 100)\n",
      "(13,) (2, 13, 100)\n",
      "(176,) (5, 176, 100)\n",
      "(15,) (2, 15, 100)\n",
      "(124124,) (777, 124124, 101242140)\n",
      "Table <K>\n",
      "Primary key: ['c']\n",
      "['a: int', 'b: int', 'c: int']\n",
      "(3,) (2, 4, 3)\n",
      "(5,) (1, 99, 5)\n",
      "(100,) (2, 12, 100)\n",
      "(150,) (5, 176, 150)\n",
      "(110,) (5, -1, 110)\n",
      "(17,) (5, 0, 17)\n"
     ]
    }
   ],
   "source": [
    "c.tables['T'].printall()\n",
    "c.tables['K'].printall()"
   ]
  },
  {
   "cell_type": "code",
   "execution_count": null,
   "metadata": {},
   "outputs": [],
   "source": []
  }
 ],
 "metadata": {
  "kernelspec": {
   "display_name": "Python 3",
   "language": "python",
   "name": "python3"
  },
  "language_info": {
   "codemirror_mode": {
    "name": "ipython",
    "version": 3
   },
   "file_extension": ".py",
   "mimetype": "text/x-python",
   "name": "python",
   "nbconvert_exporter": "python",
   "pygments_lexer": "ipython3",
   "version": "3.7.3"
  }
 },
 "nbformat": 4,
 "nbformat_minor": 2
}
