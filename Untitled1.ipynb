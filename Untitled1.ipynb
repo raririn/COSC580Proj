{
 "cells": [
  {
   "cell_type": "code",
   "execution_count": 1,
   "metadata": {},
   "outputs": [],
   "source": [
    "from src.table import Table\n",
    "from core import Core\n",
    "from copy import deepcopy"
   ]
  },
  {
   "cell_type": "markdown",
   "metadata": {},
   "source": [
    "### Load DB file"
   ]
  },
  {
   "cell_type": "code",
   "execution_count": 2,
   "metadata": {},
   "outputs": [
    {
     "data": {
      "text/plain": [
       "0"
      ]
     },
     "execution_count": 2,
     "metadata": {},
     "output_type": "execute_result"
    }
   ],
   "source": [
    "c = Core()\n",
    "c.head_lines = 5\n",
    "c.return_time = True\n",
    "c.printall = False\n",
    "c._load_db('test.db')"
   ]
  },
  {
   "cell_type": "code",
   "execution_count": 3,
   "metadata": {},
   "outputs": [
    {
     "name": "stdout",
     "output_type": "stream",
     "text": [
      "Executing queries takes 0.0 seconds.\n"
     ]
    }
   ],
   "source": [
    "q = '''\n",
    "use defaultdb\n",
    "'''\n",
    "c.handler(q)"
   ]
  },
  {
   "cell_type": "markdown",
   "metadata": {},
   "source": [
    "### Simple queries"
   ]
  },
  {
   "cell_type": "code",
   "execution_count": 4,
   "metadata": {},
   "outputs": [
    {
     "name": "stdout",
     "output_type": "stream",
     "text": [
      "Table <1575292466.4458039>\n",
      "2 columns, 1000 rows\n",
      "['a', 'b']\n",
      "(1, 1)\n",
      "(2, 1)\n",
      "(3, 1)\n",
      "(4, 1)\n",
      "(5, 1)\n",
      "Executing queries takes 0.13230538368225098 seconds.\n"
     ]
    }
   ],
   "source": [
    "q = '''\n",
    "SELECT * FROM A\n",
    "'''\n",
    "c.handler(q)"
   ]
  },
  {
   "cell_type": "markdown",
   "metadata": {},
   "source": [
    "### Joins"
   ]
  },
  {
   "cell_type": "code",
   "execution_count": 5,
   "metadata": {},
   "outputs": [
    {
     "name": "stdout",
     "output_type": "stream",
     "text": [
      "Table <1575292466.6027281>\n",
      "4 columns, 1000 rows\n",
      "['a.a', 'a.b', 'b.a', 'b.b']\n",
      "(1, 1, 1, 1)\n",
      "(2, 1, 2, 2)\n",
      "(3, 1, 3, 3)\n",
      "(4, 1, 4, 4)\n",
      "(5, 1, 5, 5)\n",
      "Executing queries takes 0.14792203903198242 seconds.\n"
     ]
    }
   ],
   "source": [
    "q = '''\n",
    "SELECT *\n",
    "FROM A, B\n",
    "WHERE A.a = B.a\n",
    "'''\n",
    "c.handler(q)"
   ]
  },
  {
   "cell_type": "code",
   "execution_count": 6,
   "metadata": {},
   "outputs": [
    {
     "name": "stdout",
     "output_type": "stream",
     "text": [
      "Table <1575292467.283425>\n",
      "4 columns, 499500 rows\n",
      "['a1.a', 'a1.b', 'a2.a', 'a2.b']\n",
      "(2, 1, 1, 1)\n",
      "(3, 1, 1, 1)\n",
      "(3, 1, 2, 1)\n",
      "(4, 1, 1, 1)\n",
      "(4, 1, 2, 1)\n",
      "Executing queries takes 0.6966836452484131 seconds.\n"
     ]
    }
   ],
   "source": [
    "q = '''\n",
    "SELECT *\n",
    "FROM A A1, A A2\n",
    "WHERE A1.a > A2.a\n",
    "'''\n",
    "c.handler(q)"
   ]
  },
  {
   "cell_type": "code",
   "execution_count": 7,
   "metadata": {},
   "outputs": [
    {
     "name": "stdout",
     "output_type": "stream",
     "text": [
      "Table <1575292468.1231256>\n",
      "2 columns, 499500 rows\n",
      "['a.a', 'c.a']\n",
      "(2, 1)\n",
      "(3, 1)\n",
      "(3, 2)\n",
      "(4, 1)\n",
      "(4, 2)\n",
      "Executing queries takes 0.7987315654754639 seconds.\n"
     ]
    }
   ],
   "source": [
    "q = '''\n",
    "SELECT A.a, C.a\n",
    "FROM A, C\n",
    "WHERE A.a > C.a\n",
    "'''\n",
    "c.handler(q)"
   ]
  },
  {
   "cell_type": "markdown",
   "metadata": {},
   "source": [
    "### Index"
   ]
  },
  {
   "cell_type": "code",
   "execution_count": 14,
   "metadata": {},
   "outputs": [
    {
     "name": "stdout",
     "output_type": "stream",
     "text": [
      "Executing queries takes 0.02898263931274414 seconds.\n"
     ]
    }
   ],
   "source": [
    "q = '''\n",
    "CREATE INDEX a1 ON A (a)\n",
    "'''\n",
    "c.handler(q)"
   ]
  },
  {
   "cell_type": "code",
   "execution_count": 15,
   "metadata": {},
   "outputs": [
    {
     "name": "stdout",
     "output_type": "stream",
     "text": [
      "Table <1575292469.8569381>\n",
      "2 columns, 499500 rows\n",
      "['a.a', 'c.a']\n",
      "(2, 1)\n",
      "(3, 1)\n",
      "(3, 2)\n",
      "(4, 1)\n",
      "(4, 2)\n",
      "Executing queries takes 1.0429646968841553 seconds.\n"
     ]
    }
   ],
   "source": [
    "q = '''\n",
    "SELECT A.a, C.a\n",
    "FROM A, C\n",
    "WHERE A.a > C.a\n",
    "'''\n",
    "c.handler(q)"
   ]
  },
  {
   "cell_type": "markdown",
   "metadata": {},
   "source": [
    "### Create table & Foreign key constraints"
   ]
  },
  {
   "cell_type": "code",
   "execution_count": 8,
   "metadata": {},
   "outputs": [
    {
     "name": "stdout",
     "output_type": "stream",
     "text": [
      "Executing queries takes 0.00099945068359375 seconds.\n"
     ]
    }
   ],
   "source": [
    "q = '''\n",
    "CREATE TABLE E (\n",
    "    a int, \n",
    "    b int,\n",
    "    PRIMARY KEY (b),\n",
    "    FOREIGN KEY a REFERENCES A(a) ON DELETE CASCADE,\n",
    ");\n",
    "CREATE TABLE F (\n",
    "    a int, \n",
    "    b int,\n",
    "    PRIMARY KEY (b),\n",
    "    FOREIGN KEY a REFERENCES B(a) ON DELETE NO ACTION,\n",
    ")\n",
    "\n",
    "\n",
    "\n",
    "'''\n",
    "c.handler(q)"
   ]
  },
  {
   "cell_type": "code",
   "execution_count": 9,
   "metadata": {},
   "outputs": [
    {
     "name": "stdout",
     "output_type": "stream",
     "text": [
      "Executing queries takes 0.0 seconds.\n"
     ]
    }
   ],
   "source": [
    "q = '''\n",
    "INSERT INTO E\n",
    "VALUES (1, 2);\n",
    "\n",
    "INSERT INTO F\n",
    "VALUES (2, 5)\n",
    "'''\n",
    "c.handler(q)"
   ]
  },
  {
   "cell_type": "code",
   "execution_count": 10,
   "metadata": {},
   "outputs": [
    {
     "name": "stdout",
     "output_type": "stream",
     "text": [
      "Executing queries takes 0.0 seconds.\n"
     ]
    }
   ],
   "source": [
    "q = '''\n",
    "DELETE FROM A\n",
    "WHERE a = 1\n",
    "'''\n",
    "c.handler(q)"
   ]
  },
  {
   "cell_type": "code",
   "execution_count": 11,
   "metadata": {
    "scrolled": true
   },
   "outputs": [
    {
     "name": "stdout",
     "output_type": "stream",
     "text": [
      "Table <1575292468.3272638>\n",
      "2 columns, 999 rows\n",
      "['a', 'b']\n",
      "(2, 1)\n",
      "(3, 1)\n",
      "(4, 1)\n",
      "(5, 1)\n",
      "(6, 1)\n",
      "Table <1575292468.444198>\n",
      "2 columns, 0 rows\n",
      "['a', 'b']\n",
      "Executing queries takes 0.24811625480651855 seconds.\n"
     ]
    }
   ],
   "source": [
    "q = '''\n",
    "SELECT * FROM A;\n",
    "\n",
    "SELECT * FROM E\n",
    "'''\n",
    "c.handler(q)"
   ]
  },
  {
   "cell_type": "code",
   "execution_count": 12,
   "metadata": {},
   "outputs": [
    {
     "name": "stdout",
     "output_type": "stream",
     "text": [
      "Executing queries takes 0.0010013580322265625 seconds.\n"
     ]
    }
   ],
   "source": [
    "q = '''\n",
    "DELETE FROM B\n",
    "WHERE a = 2\n",
    "'''\n",
    "c.handler(q)"
   ]
  },
  {
   "cell_type": "code",
   "execution_count": 13,
   "metadata": {},
   "outputs": [
    {
     "name": "stdout",
     "output_type": "stream",
     "text": [
      "Table <1575292468.6131005>\n",
      "2 columns, 1000 rows\n",
      "['a', 'b']\n",
      "(1, 1)\n",
      "(2, 2)\n",
      "(3, 3)\n",
      "(4, 4)\n",
      "(5, 5)\n",
      "Table <1575292468.7920003>\n",
      "2 columns, 1 rows\n",
      "['a', 'b']\n",
      "(2, 5)\n",
      "Executing queries takes 0.3208138942718506 seconds.\n"
     ]
    }
   ],
   "source": [
    "q = '''\n",
    "SELECT * FROM B;\n",
    "SELECT * FROM F\n",
    "'''\n",
    "c.handler(q)"
   ]
  },
  {
   "cell_type": "code",
   "execution_count": null,
   "metadata": {},
   "outputs": [],
   "source": []
  }
 ],
 "metadata": {
  "kernelspec": {
   "display_name": "Python 3",
   "language": "python",
   "name": "python3"
  },
  "language_info": {
   "codemirror_mode": {
    "name": "ipython",
    "version": 3
   },
   "file_extension": ".py",
   "mimetype": "text/x-python",
   "name": "python",
   "nbconvert_exporter": "python",
   "pygments_lexer": "ipython3",
   "version": "3.7.3"
  }
 },
 "nbformat": 4,
 "nbformat_minor": 2
}
