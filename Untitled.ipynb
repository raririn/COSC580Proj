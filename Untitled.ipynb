{
 "cells": [
  {
   "cell_type": "markdown",
   "metadata": {},
   "source": [
    "### Keyword Search Unit Test"
   ]
  },
  {
   "cell_type": "code",
   "execution_count": 1,
   "metadata": {},
   "outputs": [],
   "source": [
    "from core import Core"
   ]
  },
  {
   "cell_type": "code",
   "execution_count": 2,
   "metadata": {},
   "outputs": [],
   "source": [
    "c = Core()"
   ]
  },
  {
   "cell_type": "code",
   "execution_count": 3,
   "metadata": {},
   "outputs": [],
   "source": [
    "from src.table import Table"
   ]
  },
  {
   "cell_type": "code",
   "execution_count": 4,
   "metadata": {},
   "outputs": [
    {
     "data": {
      "text/plain": [
       "False"
      ]
     },
     "execution_count": 4,
     "metadata": {},
     "output_type": "execute_result"
    }
   ],
   "source": [
    "c.trie.search('add123')"
   ]
  },
  {
   "cell_type": "code",
   "execution_count": 5,
   "metadata": {},
   "outputs": [
    {
     "data": {
      "text/plain": [
       "'$'"
      ]
     },
     "execution_count": 5,
     "metadata": {},
     "output_type": "execute_result"
    }
   ],
   "source": [
    "c.trie.search('=')"
   ]
  },
  {
   "cell_type": "code",
   "execution_count": 6,
   "metadata": {},
   "outputs": [
    {
     "data": {
      "text/plain": [
       "True"
      ]
     },
     "execution_count": 6,
     "metadata": {},
     "output_type": "execute_result"
    }
   ],
   "source": [
    "c.trie.startsWith('add')"
   ]
  },
  {
   "cell_type": "code",
   "execution_count": 7,
   "metadata": {},
   "outputs": [
    {
     "data": {
      "text/plain": [
       "True"
      ]
     },
     "execution_count": 7,
     "metadata": {},
     "output_type": "execute_result"
    }
   ],
   "source": [
    "c.trie.startsWith('<')"
   ]
  },
  {
   "cell_type": "code",
   "execution_count": 8,
   "metadata": {},
   "outputs": [
    {
     "data": {
      "text/plain": [
       "True"
      ]
     },
     "execution_count": 8,
     "metadata": {},
     "output_type": "execute_result"
    }
   ],
   "source": [
    "c.trie.startsWith('AND')"
   ]
  },
  {
   "cell_type": "markdown",
   "metadata": {},
   "source": [
    "### Parser Unit Test"
   ]
  },
  {
   "cell_type": "code",
   "execution_count": 9,
   "metadata": {},
   "outputs": [
    {
     "data": {
      "text/plain": [
       "[<Symbol: SELECT, Length: 6, Type: Keyword>,\n",
       " <Symbol: A, Length: 1, Type: Identifier>,\n",
       " <Symbol: FROM, Length: 4, Type: Keyword>,\n",
       " <Symbol: B, Length: 1, Type: Identifier>,\n",
       " <Symbol: WHERE, Length: 5, Type: Keyword>,\n",
       " <Symbol: A.b, Length: 3, Type: Identifier>,\n",
       " <Symbol: =, Length: 1, Type: Operator>,\n",
       " <Symbol: 123, Length: 3, Type: Value>]"
      ]
     },
     "execution_count": 9,
     "metadata": {},
     "output_type": "execute_result"
    }
   ],
   "source": [
    "list(c.parser._split('SELECT A FROM B WHERE A.b = 123'))"
   ]
  },
  {
   "cell_type": "markdown",
   "metadata": {},
   "source": [
    "### Table Unit Test"
   ]
  },
  {
   "cell_type": "code",
   "execution_count": 1,
   "metadata": {},
   "outputs": [],
   "source": [
    "from src.table import Table"
   ]
  },
  {
   "cell_type": "code",
   "execution_count": 2,
   "metadata": {},
   "outputs": [],
   "source": [
    "t = Table(name = 't', col_names = ['a', 'b', 'c'], dtype = ['int', 'int', 'int'], primary_key = ['b'])"
   ]
  },
  {
   "cell_type": "code",
   "execution_count": 3,
   "metadata": {},
   "outputs": [
    {
     "data": {
      "text/plain": [
       "0"
      ]
     },
     "execution_count": 3,
     "metadata": {},
     "output_type": "execute_result"
    }
   ],
   "source": [
    "t._insert((1,2,3))\n",
    "t._insert((1,5,3))\n",
    "t._insert((1,3,9))\n",
    "t._insert((1,12,100))\n",
    "t._insert((2,13,100))\n",
    "t._insert((5,176,100))\n",
    "t._insert((2,15,100))\n",
    "t._insert((777,124124,101242140))"
   ]
  },
  {
   "cell_type": "code",
   "execution_count": 4,
   "metadata": {},
   "outputs": [
    {
     "data": {
      "text/plain": [
       "0"
      ]
     },
     "execution_count": 4,
     "metadata": {},
     "output_type": "execute_result"
    }
   ],
   "source": [
    "k = Table(name = 'k', col_names = ['a', 'b', 'c'], dtype = ['int', 'int', 'int'], primary_key = 'b')\n",
    "k._insert((2,4,3))\n",
    "k._insert((2,99,3))\n",
    "k._insert((2,12,100))\n",
    "k._insert((2,11,9))"
   ]
  },
  {
   "cell_type": "code",
   "execution_count": 5,
   "metadata": {},
   "outputs": [
    {
     "name": "stdout",
     "output_type": "stream",
     "text": [
      "\n"
     ]
    },
    {
     "data": {
      "text/plain": [
       "-1"
      ]
     },
     "execution_count": 5,
     "metadata": {},
     "output_type": "execute_result"
    }
   ],
   "source": [
    "# dtype conflict\n",
    "t._insert(('a', 'b', 'c'))"
   ]
  },
  {
   "cell_type": "code",
   "execution_count": 6,
   "metadata": {},
   "outputs": [
    {
     "name": "stdout",
     "output_type": "stream",
     "text": [
      "Key not in dist!\n"
     ]
    },
    {
     "data": {
      "text/plain": [
       "-1"
      ]
     },
     "execution_count": 6,
     "metadata": {},
     "output_type": "execute_result"
    }
   ],
   "source": [
    "# Primary key conflict\n",
    "t._insert((1,2,3))"
   ]
  },
  {
   "cell_type": "code",
   "execution_count": 7,
   "metadata": {},
   "outputs": [
    {
     "name": "stdout",
     "output_type": "stream",
     "text": [
      "Table <t>\n",
      "Primary key: ['b']\n",
      "['a: int', 'b: int', 'c: int']\n",
      "(2,) (1, 2, 3)\n",
      "(5,) (1, 5, 3)\n",
      "(3,) (1, 3, 9)\n",
      "(12,) (1, 12, 100)\n",
      "(13,) (2, 13, 100)\n",
      "(176,) (5, 176, 100)\n",
      "(15,) (2, 15, 100)\n",
      "(124124,) (777, 124124, 101242140)\n"
     ]
    }
   ],
   "source": [
    "t.printall()"
   ]
  },
  {
   "cell_type": "code",
   "execution_count": 8,
   "metadata": {},
   "outputs": [
    {
     "name": "stdout",
     "output_type": "stream",
     "text": [
      "Table <1575163252.6189547>\n",
      "Primary key: []\n",
      "['b: int']\n",
      "(5,) (1, 5, 3)\n",
      "(3,) (1, 3, 9)\n",
      "(12,) (1, 12, 100)\n",
      "(13,) (2, 13, 100)\n",
      "(176,) (5, 176, 100)\n",
      "(15,) (2, 15, 100)\n",
      "(124124,) (777, 124124, 101242140)\n"
     ]
    }
   ],
   "source": [
    "t._project(['b', '>', 2], alias = 'N').printall()"
   ]
  },
  {
   "cell_type": "code",
   "execution_count": 9,
   "metadata": {},
   "outputs": [
    {
     "name": "stdout",
     "output_type": "stream",
     "text": [
      "Table <1575163253.4341383>\n",
      "Primary key: []\n",
      "['a: int', 'b: int']\n",
      "(2,) (1, 2)\n",
      "(5,) (1, 5)\n",
      "(3,) (1, 3)\n",
      "(12,) (1, 12)\n",
      "(13,) (2, 13)\n",
      "(176,) (5, 176)\n",
      "(15,) (2, 15)\n",
      "(124124,) (777, 124124)\n"
     ]
    }
   ],
   "source": [
    "t._select(['a', 'b'], alias = 'M').printall()"
   ]
  },
  {
   "cell_type": "code",
   "execution_count": 10,
   "metadata": {},
   "outputs": [
    {
     "name": "stdout",
     "output_type": "stream",
     "text": [
      "Table <1575163254.1567068>\n",
      "Primary key: []\n",
      "['a: int', 'b: int', 'c: int', 'a: int', 'b: int', 'c: int']\n",
      "0 (1, 5, 3, 2, 4, 3)\n",
      "1 (1, 12, 100, 2, 4, 3)\n",
      "2 (1, 12, 100, 2, 11, 9)\n",
      "3 (2, 13, 100, 2, 4, 3)\n",
      "4 (2, 13, 100, 2, 12, 100)\n",
      "5 (2, 13, 100, 2, 11, 9)\n",
      "6 (5, 176, 100, 2, 4, 3)\n",
      "7 (5, 176, 100, 2, 99, 3)\n",
      "8 (5, 176, 100, 2, 12, 100)\n",
      "9 (5, 176, 100, 2, 11, 9)\n",
      "10 (2, 15, 100, 2, 4, 3)\n",
      "11 (2, 15, 100, 2, 12, 100)\n",
      "12 (2, 15, 100, 2, 11, 9)\n",
      "13 (777, 124124, 101242140, 2, 4, 3)\n",
      "14 (777, 124124, 101242140, 2, 99, 3)\n",
      "15 (777, 124124, 101242140, 2, 12, 100)\n",
      "16 (777, 124124, 101242140, 2, 11, 9)\n"
     ]
    }
   ],
   "source": [
    "newT = t._join(k, ['b', '>', 'b'], mode = Table.JOIN_NESTEDLOOP).printall()"
   ]
  },
  {
   "cell_type": "code",
   "execution_count": 11,
   "metadata": {},
   "outputs": [
    {
     "name": "stdout",
     "output_type": "stream",
     "text": [
      "Table <1575163255.929116>\n",
      "Primary key: []\n",
      "['a: int', 'b: int', 'c: int']\n",
      "0 (1, 2, 3)\n",
      "1 (1, 3, 9)\n",
      "2 (1, 5, 3)\n",
      "3 (1, 12, 100)\n",
      "4 (2, 13, 100)\n",
      "5 (2, 15, 100)\n",
      "6 (5, 176, 100)\n",
      "7 (777, 124124, 101242140)\n"
     ]
    }
   ],
   "source": [
    "# SELECT b\n",
    "# FROM t\n",
    "# ORDER BY a\n",
    "\n",
    "t._select(['a', 'b', 'c'], orderby = [['a', 'b'], False]).printall()"
   ]
  },
  {
   "cell_type": "code",
   "execution_count": 12,
   "metadata": {},
   "outputs": [
    {
     "name": "stdout",
     "output_type": "stream",
     "text": [
      "Table <1575163257.850032>\n",
      "Primary key: []\n",
      "['a: int', 'b: int', 'c: int']\n",
      "(3, 1) (3, 5, 1)\n",
      "(9, 1) (9, 3, 1)\n",
      "(100, 1) (100, 12, 1)\n",
      "(100, 2) (100, 15, 2)\n",
      "(100, 5) (100, 176, 5)\n",
      "(101242140, 777) (101242140, 124124, 777)\n"
     ]
    }
   ],
   "source": [
    "# SELECT *\n",
    "# FROM t\n",
    "# GROUPBY a, c\n",
    "\n",
    "t._select(['a', 'b', 'c'], groupby = ['a', 'c']).printall()"
   ]
  },
  {
   "cell_type": "code",
   "execution_count": 13,
   "metadata": {},
   "outputs": [
    {
     "name": "stdout",
     "output_type": "stream",
     "text": [
      "Table <1575163258.7061348>\n",
      "Primary key: []\n",
      "['a: int', 'b: int', 'c: int']\n",
      "(2, 1) (3, 2, 1)\n",
      "(5, 1) (3, 5, 1)\n",
      "(3, 1) (9, 3, 1)\n",
      "(12, 1) (100, 12, 1)\n",
      "(13, 2) (100, 13, 2)\n",
      "(176, 5) (100, 176, 5)\n",
      "(15, 2) (100, 15, 2)\n",
      "(124124, 777) (101242140, 124124, 777)\n"
     ]
    }
   ],
   "source": [
    "t._select(['a', 'b' ,'c'], groupby = ['b', 'c']).printall()"
   ]
  },
  {
   "cell_type": "code",
   "execution_count": 14,
   "metadata": {
    "scrolled": false
   },
   "outputs": [
    {
     "name": "stdout",
     "output_type": "stream",
     "text": [
      "Table <1575163259.0869167>\n",
      "Primary key: []\n",
      "['a: int', 'COUNT(b): int', 'c: int']\n",
      "(3, 1) (3, 2, 1)\n",
      "(9, 1) (9, 1, 1)\n",
      "(100, 1) (100, 1, 1)\n",
      "(100, 2) (100, 2, 2)\n",
      "(100, 5) (100, 1, 5)\n",
      "(101242140, 777) (101242140, 1, 777)\n"
     ]
    }
   ],
   "source": [
    "# SELECT SUM(a)\n",
    "# FROM t\n",
    "t._select(['a', 'b', 'c'], aggr_func = ['count', 'b'], groupby = ['a', 'c']).printall()"
   ]
  },
  {
   "cell_type": "code",
   "execution_count": 15,
   "metadata": {},
   "outputs": [
    {
     "name": "stdout",
     "output_type": "stream",
     "text": [
      "Table <1575163259.4958482>\n",
      "Primary key: []\n",
      "['a: int', 'AVG(b): float', 'c: int']\n",
      "(3, 1) (3, 3.5, 1)\n",
      "(9, 1) (9, 3.0, 1)\n",
      "(100, 1) (100, 12.0, 1)\n",
      "(100, 2) (100, 14.0, 2)\n",
      "(100, 5) (100, 176.0, 5)\n",
      "(101242140, 777) (101242140, 124124.0, 777)\n"
     ]
    }
   ],
   "source": [
    "t._select(['a', 'b', 'c'], aggr_func = ['avg', 'b'], groupby = ['a', 'c']).printall()"
   ]
  },
  {
   "cell_type": "code",
   "execution_count": 16,
   "metadata": {},
   "outputs": [
    {
     "name": "stdout",
     "output_type": "stream",
     "text": [
      "Table <1575163259.868665>\n",
      "Primary key: []\n",
      "['a: int', 'SUM(b): float', 'c: int']\n",
      "(3, 1) (3, 7, 1)\n",
      "(9, 1) (9, 3, 1)\n",
      "(100, 1) (100, 12, 1)\n",
      "(100, 2) (100, 28, 2)\n",
      "(100, 5) (100, 176, 5)\n",
      "(101242140, 777) (101242140, 124124, 777)\n"
     ]
    }
   ],
   "source": [
    "t._select(['a', 'b', 'c'], aggr_func = ['sum', 'b'], groupby = ['a', 'c']).printall()"
   ]
  },
  {
   "cell_type": "code",
   "execution_count": 17,
   "metadata": {},
   "outputs": [
    {
     "name": "stdout",
     "output_type": "stream",
     "text": [
      "Table <1575163260.7283428>\n",
      "Primary key: []\n",
      "['a: int']\n",
      "(2,) (1, 2, 3)\n",
      "(5,) (1, 5, 3)\n",
      "(3,) (1, 3, 9)\n",
      "(12,) (1, 12, 100)\n"
     ]
    }
   ],
   "source": [
    "t._project(['a', '=', 1]).printall()"
   ]
  },
  {
   "cell_type": "markdown",
   "metadata": {},
   "source": [
    "### Core Tests"
   ]
  },
  {
   "cell_type": "code",
   "execution_count": null,
   "metadata": {},
   "outputs": [],
   "source": [
    "from core import Core\n",
    "from src.table import Table\n",
    "c = Core()"
   ]
  },
  {
   "cell_type": "code",
   "execution_count": null,
   "metadata": {},
   "outputs": [],
   "source": [
    "c._create_table('T', ['a', 'b', 'c'], ['int', 'int', 'int'], 'b', None)\n",
    "c._create_table('K', ['a', 'b', 'c'], ['int', 'int', 'int'], 'c', ['b', 'T', 'b', Table.ONDELETE_NOACTION])"
   ]
  },
  {
   "cell_type": "code",
   "execution_count": null,
   "metadata": {},
   "outputs": [],
   "source": [
    "c.tables"
   ]
  },
  {
   "cell_type": "code",
   "execution_count": null,
   "metadata": {},
   "outputs": [],
   "source": [
    "c._drop_table('T', True)\n",
    "c._drop_table('T', True)\n",
    "c.tables"
   ]
  },
  {
   "cell_type": "code",
   "execution_count": null,
   "metadata": {},
   "outputs": [],
   "source": []
  },
  {
   "cell_type": "code",
   "execution_count": null,
   "metadata": {},
   "outputs": [],
   "source": []
  }
 ],
 "metadata": {
  "kernelspec": {
   "display_name": "Python 3",
   "language": "python",
   "name": "python3"
  },
  "language_info": {
   "codemirror_mode": {
    "name": "ipython",
    "version": 3
   },
   "file_extension": ".py",
   "mimetype": "text/x-python",
   "name": "python",
   "nbconvert_exporter": "python",
   "pygments_lexer": "ipython3",
   "version": "3.7.3"
  }
 },
 "nbformat": 4,
 "nbformat_minor": 2
}
