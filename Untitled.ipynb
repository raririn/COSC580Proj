{
 "cells": [
  {
   "cell_type": "code",
   "execution_count": 1,
   "metadata": {},
   "outputs": [],
   "source": [
    "from core import Core"
   ]
  },
  {
   "cell_type": "code",
   "execution_count": 2,
   "metadata": {},
   "outputs": [],
   "source": [
    "c = Core()"
   ]
  },
  {
   "cell_type": "code",
   "execution_count": 3,
   "metadata": {},
   "outputs": [
    {
     "name": "stdout",
     "output_type": "stream",
     "text": [
      "{'a': {'d': {'d': {'!': 1, 'c': {'o': {'n': {'s': {'t': {'r': {'a': {'i': {'n': {'t': {'!': 1}}}}}}}}}}}}, 'l': {'t': {'e': {'r': {'!': 1, 'c': {'o': {'l': {'u': {'m': {'n': {'!': 1}}}}}}, 't': {'a': {'b': {'l': {'e': {'!': 1}}}}}}}}, 'l': {'!': 1}}, 'n': {'d': {'!': 1}, 'y': {'!': 1}}, 's': {'!': 1, 'c': {'!': 1}}, 'v': {'g': {'@': 1}}}, 'b': {'a': {'c': {'k': {'u': {'p': {'d': {'a': {'t': {'a': {'b': {'a': {'s': {'e': {'!': 1}}}}}}}}}}}}}, 'e': {'t': {'w': {'e': {'e': {'n': {'!': 1}}}}}}}, 'c': {'a': {'s': {'e': {'!': 1}}}, 'h': {'e': {'c': {'k': {'!': 1}}}, 'a': {'r': {'#': 1}}}, 'o': {'l': {'u': {'m': {'n': {'!': 1}}}}, 'n': {'s': {'t': {'r': {'a': {'i': {'n': {'t': {'!': 1}}}}}}}}, 'u': {'n': {'t': {'@': 1}}}}, 'r': {'e': {'a': {'t': {'e': {'!': 1, 'd': {'a': {'t': {'a': {'b': {'a': {'s': {'e': {'!': 1}}}}}}}}, 'i': {'n': {'d': {'e': {'x': {'!': 1}}}}}, 'v': {'i': {'e': {'w': {'!': 1}}}}, 't': {'a': {'b': {'l': {'e': {'!': 1}}}}}, 'p': {'r': {'o': {'c': {'e': {'d': {'u': {'r': {'e': {'!': 1}}}}}}}}}, 'u': {'n': {'i': {'q': {'u': {'e': {'i': {'n': {'d': {'e': {'x': {'!': 1}}}}}}}}}}}}}}}}}, 'd': {'a': {'t': {'a': {'b': {'a': {'s': {'e': {'!': 1}}}}}, 'e': {'#': 1}}}, 'e': {'f': {'a': {'u': {'l': {'t': {'!': 1}}}}}, 'l': {'e': {'t': {'e': {'!': 1}}}}, 's': {'c': {'!': 1}}}, 'i': {'s': {'t': {'i': {'n': {'c': {'t': {'!': 1}}}}}}}, 'r': {'o': {'p': {'!': 1, 'c': {'o': {'l': {'u': {'m': {'n': {'!': 1}}}}, 'n': {'s': {'t': {'r': {'a': {'i': {'n': {'t': {'!': 1}}}}}}}}}}, 'd': {'a': {'t': {'a': {'b': {'a': {'s': {'e': {'!': 1}}}}}}}, 'e': {'f': {'a': {'u': {'l': {'t': {'!': 1}}}}}}}, 'i': {'n': {'d': {'e': {'x': {'!': 1}}}}}, 't': {'a': {'b': {'l': {'e': {'!': 1}}}}}, 'v': {'i': {'e': {'w': {'!': 1}}}}}}}, 'o': {'u': {'b': {'l': {'e': {'#': 1}}}}}}, 'e': {'x': {'e': {'c': {'!': 1}}, 'i': {'s': {'t': {'s': {'!': 1}}}}}}, 'f': {'o': {'r': {'e': {'i': {'g': {'n': {'k': {'e': {'y': {'!': 1}}}}}}}}}, 'r': {'o': {'m': {'!': 1}}}, 'u': {'l': {'l': {'o': {'u': {'t': {'e': {'r': {'j': {'o': {'i': {'n': {'!': 1}}}}}}}}}}}}, 'l': {'o': {'a': {'t': {'#': 1}}}}}, 'g': {'r': {'o': {'u': {'p': {'b': {'y': {'!': 1}}}}}}}, 'h': {'a': {'v': {'i': {'n': {'g': {'!': 1}}}}}}, 'i': {'n': {'!': 1, 'd': {'e': {'x': {'!': 1}}}, 'n': {'e': {'r': {'j': {'o': {'i': {'n': {'!': 1}}}}}}}, 's': {'e': {'r': {'t': {'i': {'n': {'t': {'o': {'!': 1}}}}}}}}, 't': {'#': 1}}, 's': {'n': {'u': {'l': {'l': {'!': 1}}}, 'o': {'t': {'n': {'u': {'l': {'l': {'!': 1}}}}}}}}}, 'j': {'o': {'i': {'n': {'!': 1}}}}, 'l': {'e': {'f': {'t': {'j': {'o': {'i': {'n': {'!': 1}}}}}}}, 'i': {'k': {'e': {'!': 1}}, 'm': {'i': {'t': {'!': 1}}}}}, 'n': {'o': {'t': {'!': 1, 'n': {'u': {'l': {'l': {'!': 1}}}}}}}, 'o': {'r': {'!': 1, 'd': {'e': {'r': {'b': {'y': {'!': 1}}}}}}, 'u': {'t': {'e': {'r': {'j': {'o': {'i': {'n': {'!': 1}}}}}}}}}, 'p': {'r': {'i': {'m': {'a': {'r': {'y': {'k': {'e': {'y': {'!': 1}}}}}}}}, 'o': {'c': {'e': {'d': {'u': {'r': {'e': {'!': 1}}}}}}}}}, 'r': {'i': {'g': {'h': {'t': {'j': {'o': {'i': {'n': {'!': 1}}}}}}}}, 'o': {'w': {'n': {'u': {'m': {'!': 1}}}}}}, 's': {'e': {'l': {'e': {'c': {'t': {'!': 1, 'i': {'n': {'t': {'o': {'!': 1}}}}, 't': {'o': {'p': {'!': 1}}}}}}}, 't': {'!': 1}}, 'u': {'m': {'@': 1}}}, 't': {'a': {'b': {'l': {'e': {'!': 1}}}}, 'o': {'p': {'!': 1}}, 'r': {'u': {'n': {'c': {'a': {'t': {'e': {'t': {'a': {'b': {'l': {'e': {'!': 1}}}}}}}}}}}}}, 'u': {'n': {'i': {'o': {'n': {'!': 1, 'a': {'l': {'l': {'!': 1}}}}}, 'q': {'u': {'e': {'!': 1}}}}}, 'p': {'d': {'a': {'t': {'e': {'!': 1}}}}}}, 'v': {'a': {'l': {'u': {'e': {'s': {'!': 1}}}}, 'r': {'c': {'h': {'a': {'r': {'#': 1}}}}}}, 'i': {'e': {'w': {'!': 1}}}}, 'w': {'h': {'e': {'r': {'e': {'!': 1}}}}}, 'm': {'a': {'x': {'@': 1}}, 'i': {'n': {'@': 1}}}, '<': {'$': 1, '=': {'$': 1}}, '=': {'=': {'$': 1}}, '!': {'=': {'$': 1}}, '>': {'$': 1, '=': {'$': 1}}}\n"
     ]
    }
   ],
   "source": [
    "print(c.trie)"
   ]
  },
  {
   "cell_type": "code",
   "execution_count": null,
   "metadata": {},
   "outputs": [],
   "source": [
    "c.trie.search('add123')"
   ]
  },
  {
   "cell_type": "code",
   "execution_count": null,
   "metadata": {},
   "outputs": [],
   "source": [
    "c.trie.search('<=')"
   ]
  },
  {
   "cell_type": "code",
   "execution_count": null,
   "metadata": {},
   "outputs": [],
   "source": [
    "c.trie.startsWith('add')"
   ]
  },
  {
   "cell_type": "code",
   "execution_count": null,
   "metadata": {},
   "outputs": [],
   "source": [
    "c.trie.startsWith('<')"
   ]
  },
  {
   "cell_type": "code",
   "execution_count": null,
   "metadata": {},
   "outputs": [],
   "source": [
    "c.trie.startsWith('AND')"
   ]
  },
  {
   "cell_type": "code",
   "execution_count": 4,
   "metadata": {},
   "outputs": [
    {
     "data": {
      "text/plain": [
       "[<Symbol: SELECT, Length: 6, Type: Keyword>,\n",
       " <Symbol: A, Length: 1, Type: Identifier>,\n",
       " <Symbol: FROM, Length: 4, Type: Keyword>,\n",
       " <Symbol: B, Length: 1, Type: Identifier>]"
      ]
     },
     "execution_count": 4,
     "metadata": {},
     "output_type": "execute_result"
    }
   ],
   "source": [
    "list(c.parser._split('SELECT A FROM B'))"
   ]
  },
  {
   "cell_type": "code",
   "execution_count": null,
   "metadata": {},
   "outputs": [],
   "source": []
  }
 ],
 "metadata": {
  "kernelspec": {
   "display_name": "Python 3",
   "language": "python",
   "name": "python3"
  },
  "language_info": {
   "codemirror_mode": {
    "name": "ipython",
    "version": 3
   },
   "file_extension": ".py",
   "mimetype": "text/x-python",
   "name": "python",
   "nbconvert_exporter": "python",
   "pygments_lexer": "ipython3",
   "version": "3.7.3"
  }
 },
 "nbformat": 4,
 "nbformat_minor": 2
}
