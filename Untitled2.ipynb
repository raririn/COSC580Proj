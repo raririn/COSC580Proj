{
 "cells": [
  {
   "cell_type": "code",
   "execution_count": 11,
   "metadata": {},
   "outputs": [],
   "source": [
    "from core import Core\n",
    "import time"
   ]
  },
  {
   "cell_type": "code",
   "execution_count": 12,
   "metadata": {},
   "outputs": [],
   "source": [
    "c = Core()"
   ]
  },
  {
   "cell_type": "code",
   "execution_count": 19,
   "metadata": {},
   "outputs": [
    {
     "name": "stdout",
     "output_type": "stream",
     "text": [
      "{'type': 'create_table', 'name': 'e', 'col_names': ['a', 'b'], 'dtype': ['int', 'int'], 'primary_key': ['b'], 'foreign_key': [[['a'], 'a', ['a'], 1]]}\n"
     ]
    }
   ],
   "source": [
    "query = '''\n",
    "CREATE TABLE E (\n",
    "    a int, \n",
    "    b int,\n",
    "    PRIMARY KEY (b),\n",
    "    FOREIGN KEY a REFERENCES A(a) ON DELETE CASCADE,\n",
    ")\n",
    "\n",
    "'''\n",
    "\n",
    "q0 = c.parser.parse(query)\n",
    "print(q0)"
   ]
  },
  {
   "cell_type": "code",
   "execution_count": 9,
   "metadata": {},
   "outputs": [
    {
     "name": "stdout",
     "output_type": "stream",
     "text": [
      "{'type': 'insert', 'insert_into': 'e', 'values': [5, 7]}\n",
      "Table <e>\n",
      "Primary key: []\n",
      "['a: int', 'b: int']\n",
      "(1,) (5, 7)\n",
      "(2,) (5, 7)\n",
      "(3,) (5, 7)\n",
      "(4,) (5, 7)\n"
     ]
    }
   ],
   "source": [
    "query = '''\n",
    "INSERT INTO E\n",
    "VALUES (5, 7)\n",
    "'''\n",
    "\n",
    "q0 = c.parser.parse(query)\n",
    "print(q0)\n",
    "c.handler(query)\n",
    "c.tables['e'].printall()"
   ]
  },
  {
   "cell_type": "code",
   "execution_count": null,
   "metadata": {},
   "outputs": [],
   "source": [
    "c = Core()\n",
    "c._create_table('A', ['a', 'b'], ['int', 'int'], None, None)\n",
    "c._create_table('B', ['a', 'b'], ['int', 'int'], None, None)\n",
    "c._create_table('C', ['a', 'b'], ['int', 'int'], None, None)\n",
    "c._create_table('D', ['a', 'b'], ['int', 'int'], None, None)"
   ]
  },
  {
   "cell_type": "code",
   "execution_count": null,
   "metadata": {},
   "outputs": [],
   "source": [
    "query = '''INSERT INTO A VALUES\n",
    "(5, 7)\n",
    "'''\n",
    "\n",
    "q1 = c.parser.parse(query)\n",
    "print(q1)\n",
    "print(c.execute_insert(q1))\n",
    "c.tables['A'].printall()"
   ]
  },
  {
   "cell_type": "code",
   "execution_count": null,
   "metadata": {},
   "outputs": [],
   "source": [
    "query = '''SELECT A1.a AS a1, A2.c\n",
    "FROM T A1, T A2, K B1\n",
    "WHERE A1.a = A2.b\n",
    "ORDER BY A1.a DESC'''\n",
    "\n",
    "q1 = c.parser.parse(query)\n",
    "q1"
   ]
  },
  {
   "cell_type": "code",
   "execution_count": null,
   "metadata": {},
   "outputs": [],
   "source": [
    "for i in range(1, 1001):\n",
    "    c.tables['A']._insert((i, i))\n",
    "    c.tables['B']._insert((i, 1))\n",
    "for i in range(1, 10001):\n",
    "    c.tables['C']._insert((i, i))\n",
    "    c.tables['D']._insert((i, 1))\n",
    "c.tables['A'].printall()"
   ]
  },
  {
   "cell_type": "code",
   "execution_count": null,
   "metadata": {},
   "outputs": [],
   "source": [
    "c.execute_select(q0).printall()"
   ]
  },
  {
   "cell_type": "code",
   "execution_count": null,
   "metadata": {},
   "outputs": [],
   "source": [
    "'''\n",
    "SELECT *\n",
    "FROM A, B\n",
    "WHERE A.a = C.a\n",
    "'''\n",
    "\n",
    "join_script = {\n",
    "    'query': {\n",
    "        'select': {\n",
    "            'columns': ['A.a', 'A.b', 'C.a', 'C.b'],\n",
    "            'aggr_func': [],\n",
    "            'distinct': [],\n",
    "        },\n",
    "        'from': ['A', 'B'],\n",
    "        'where': {\n",
    "            'joins': [['A.a', '>', 'C.a']],\n",
    "            'conditions': []\n",
    "        },\n",
    "        'groupby': [],\n",
    "        'orderby': [],\n",
    "    },\n",
    "    'tables': {\n",
    "        'A': 'A',\n",
    "        'C': 'C',\n",
    "    },\n",
    "    'columns': {\n",
    "        'A.a': 'A.a',\n",
    "        'A.b': 'A.b',\n",
    "        'C.a': 'C.a',\n",
    "        'C.b': 'C.b',\n",
    "    },\n",
    "}\n",
    "t = time.time()\n",
    "r = c.execute_select(join_script)\n",
    "print(time.time() - t)\n",
    "r.head()"
   ]
  },
  {
   "cell_type": "code",
   "execution_count": null,
   "metadata": {},
   "outputs": [],
   "source": [
    "'''\n",
    "SELECT *\n",
    "FROM B B1, C C2\n",
    "WHERE B1.a = C2.a\n",
    "'''\n",
    "\n",
    "join_script = {\n",
    "    'query': {\n",
    "        'select': {\n",
    "            'columns': ['B.a', 'B.b', 'C.a', 'C.b'],\n",
    "            'aggr_func': [],\n",
    "            'distinct': [],\n",
    "        },\n",
    "        'from': ['B','C'],\n",
    "        'where': {\n",
    "            'joins': [['B.a', '=', 'C.a']],\n",
    "            'conditions': []\n",
    "        },\n",
    "        'groupby': [],\n",
    "        'orderby': [],\n",
    "    },\n",
    "    'tables': {\n",
    "        'B': 'B',\n",
    "        'C': 'C',\n",
    "    },\n",
    "    'columns': {\n",
    "        'B.a': 'B.a',\n",
    "        'B.b': 'B.b',\n",
    "        'C.a': 'C.a',\n",
    "        'C.b': 'C.b',\n",
    "    },\n",
    "}\n",
    "c.execute_select(join_script).printall()"
   ]
  },
  {
   "cell_type": "code",
   "execution_count": null,
   "metadata": {},
   "outputs": [],
   "source": [
    "'''\n",
    "SELECT SUM(a)\n",
    "FROM A\n",
    "'''\n",
    "\n",
    "join_script = {\n",
    "    'query': {\n",
    "        'select': {\n",
    "            'columns': ['a'],\n",
    "            'aggr_func': ['sum', 'a'],\n",
    "            'distinct': [],\n",
    "        },\n",
    "        'from': ['A'],\n",
    "        'where': {\n",
    "            'joins': [],\n",
    "            'conditions': []\n",
    "        },\n",
    "        'groupby': [],\n",
    "        'orderby': [],\n",
    "    },\n",
    "    'tables': {\n",
    "        'A': 'A',\n",
    "    },\n",
    "    'columns': {\n",
    "        'a': 'a',\n",
    "    },\n",
    "}\n",
    "c.execute_select(join_script).printall()"
   ]
  },
  {
   "cell_type": "code",
   "execution_count": null,
   "metadata": {},
   "outputs": [],
   "source": []
  }
 ],
 "metadata": {
  "kernelspec": {
   "display_name": "Python 3",
   "language": "python",
   "name": "python3"
  },
  "language_info": {
   "codemirror_mode": {
    "name": "ipython",
    "version": 3
   },
   "file_extension": ".py",
   "mimetype": "text/x-python",
   "name": "python",
   "nbconvert_exporter": "python",
   "pygments_lexer": "ipython3",
   "version": "3.6.4"
  }
 },
 "nbformat": 4,
 "nbformat_minor": 2
}
