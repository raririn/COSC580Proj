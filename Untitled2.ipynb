{
 "cells": [
  {
   "cell_type": "code",
   "execution_count": 1,
   "metadata": {},
   "outputs": [],
   "source": [
    "from core import Core\n",
    "import time"
   ]
  },
  {
   "cell_type": "code",
   "execution_count": 2,
   "metadata": {},
   "outputs": [],
   "source": [
    "c = Core()"
   ]
  },
  {
   "cell_type": "code",
   "execution_count": 3,
   "metadata": {},
   "outputs": [
    {
     "data": {
      "text/plain": [
       "{'query': {'select': {'columns': ['a1', 'a2.c'],\n",
       "   'aggr_func': [],\n",
       "   'distinct': []},\n",
       "  'from': ['a1', 'a2', 'b1'],\n",
       "  'where': {'joins': [['a1.a', '=', 'a2.b']], 'conditions': []},\n",
       "  'groupby': [],\n",
       "  'orderby': [['a1.a', False]]},\n",
       " 'tables': {'a1': 't', 'a2': 't', 'b1': 'k'},\n",
       " 'columns': {'a1': 'a1.a', 'a2.c': 'a2.c'}}"
      ]
     },
     "execution_count": 3,
     "metadata": {},
     "output_type": "execute_result"
    }
   ],
   "source": [
    "query = '''SELECT A1.a AS a1, A2.c\n",
    "FROM T A1, T A2, K B1\n",
    "WHERE A1.a = A2.b\n",
    "ORDER BY A1.a DESC'''\n",
    "\n",
    "q1 = c.parser.parse(query)\n",
    "q1"
   ]
  },
  {
   "cell_type": "code",
   "execution_count": 4,
   "metadata": {},
   "outputs": [
    {
     "data": {
      "text/plain": [
       "0"
      ]
     },
     "execution_count": 4,
     "metadata": {},
     "output_type": "execute_result"
    }
   ],
   "source": [
    "c = Core()\n",
    "c._create_table('A', ['a', 'b'], ['int', 'int'], None, None)\n",
    "c._create_table('B', ['a', 'b'], ['int', 'int'], None, None)\n",
    "c._create_table('C', ['a', 'b'], ['int', 'int'], None, None)\n",
    "c._create_table('D', ['a', 'b'], ['int', 'int'], None, None)"
   ]
  },
  {
   "cell_type": "code",
   "execution_count": 5,
   "metadata": {},
   "outputs": [],
   "source": [
    "for i in range(1, 1001):\n",
    "    c.tables['A']._insert((i, i))\n",
    "    c.tables['B']._insert((i, 1))\n",
    "for i in range(1, 10001):\n",
    "    c.tables['C']._insert((i, i))\n",
    "    c.tables['D']._insert((i, 1))"
   ]
  },
  {
   "cell_type": "code",
   "execution_count": 10,
   "metadata": {},
   "outputs": [
    {
     "data": {
      "text/plain": [
       "0"
      ]
     },
     "execution_count": 10,
     "metadata": {},
     "output_type": "execute_result"
    }
   ],
   "source": [
    "c.execute_create_index(q1)"
   ]
  },
  {
   "cell_type": "code",
   "execution_count": 11,
   "metadata": {},
   "outputs": [
    {
     "name": "stdout",
     "output_type": "stream",
     "text": [
      "0.8585083484649658\n",
      "Table <1575252028.6677814>\n",
      "4 columns, 498501 rows\n",
      "['A.a: int', 'A.b: int', 'C.a: int', 'C.b: int']\n",
      "0 (3, 3, 1, 1)\n",
      "1 (4, 4, 1, 1)\n",
      "2 (4, 4, 2, 2)\n",
      "3 (5, 5, 1, 1)\n",
      "4 (5, 5, 2, 2)\n"
     ]
    }
   ],
   "source": [
    "'''\n",
    "SELECT *\n",
    "FROM A, B\n",
    "WHERE A.a = C.a\n",
    "'''\n",
    "\n",
    "join_script = {\n",
    "    'query': {\n",
    "        'select': {\n",
    "            'columns': ['A.a', 'A.b', 'C.a', 'C.b'],\n",
    "            'aggr_func': [],\n",
    "            'distinct': [],\n",
    "        },\n",
    "        'from': ['A', 'B'],\n",
    "        'where': {\n",
    "            'joins': [['A.a', '>', 'C.a']],\n",
    "            'conditions': []\n",
    "        },\n",
    "        'groupby': [],\n",
    "        'orderby': [],\n",
    "    },\n",
    "    'tables': {\n",
    "        'A': 'A',\n",
    "        'C': 'C',\n",
    "    },\n",
    "    'columns': {\n",
    "        'A.a': 'A.a',\n",
    "        'A.b': 'A.b',\n",
    "        'C.a': 'C.a',\n",
    "        'C.b': 'C.b',\n",
    "    },\n",
    "}\n",
    "t = time.time()\n",
    "r = c.execute_select(join_script)\n",
    "print(time.time() - t)\n",
    "r.head()"
   ]
  },
  {
   "cell_type": "code",
   "execution_count": null,
   "metadata": {},
   "outputs": [],
   "source": [
    "'''\n",
    "SELECT *\n",
    "FROM B B1, C C2\n",
    "WHERE B1.a = C2.a\n",
    "'''\n",
    "\n",
    "join_script = {\n",
    "    'query': {\n",
    "        'select': {\n",
    "            'columns': ['B.a', 'B.b', 'C.a', 'C.b'],\n",
    "            'aggr_func': [],\n",
    "            'distinct': [],\n",
    "        },\n",
    "        'from': ['B','C'],\n",
    "        'where': {\n",
    "            'joins': [['B.a', '=', 'C.a']],\n",
    "            'conditions': []\n",
    "        },\n",
    "        'groupby': [],\n",
    "        'orderby': [],\n",
    "    },\n",
    "    'tables': {\n",
    "        'B': 'B',\n",
    "        'C': 'C',\n",
    "    },\n",
    "    'columns': {\n",
    "        'B.a': 'B.a',\n",
    "        'B.b': 'B.b',\n",
    "        'C.a': 'C.a',\n",
    "        'C.b': 'C.b',\n",
    "    },\n",
    "}\n",
    "c.execute_select(join_script).printall()"
   ]
  },
  {
   "cell_type": "code",
   "execution_count": null,
   "metadata": {},
   "outputs": [],
   "source": [
    "'''\n",
    "SELECT SUM(a)\n",
    "FROM A\n",
    "'''\n",
    "\n",
    "join_script = {\n",
    "    'query': {\n",
    "        'select': {\n",
    "            'columns': ['a'],\n",
    "            'aggr_func': ['sum', 'a'],\n",
    "            'distinct': [],\n",
    "        },\n",
    "        'from': ['A'],\n",
    "        'where': {\n",
    "            'joins': [],\n",
    "            'conditions': []\n",
    "        },\n",
    "        'groupby': [],\n",
    "        'orderby': [],\n",
    "    },\n",
    "    'tables': {\n",
    "        'A': 'A',\n",
    "    },\n",
    "    'columns': {\n",
    "        'a': 'a',\n",
    "    },\n",
    "}\n",
    "c.execute_select(join_script).printall()"
   ]
  },
  {
   "cell_type": "code",
   "execution_count": null,
   "metadata": {},
   "outputs": [],
   "source": []
  }
 ],
 "metadata": {
  "kernelspec": {
   "display_name": "Python 3",
   "language": "python",
   "name": "python3"
  },
  "language_info": {
   "codemirror_mode": {
    "name": "ipython",
    "version": 3
   },
   "file_extension": ".py",
   "mimetype": "text/x-python",
   "name": "python",
   "nbconvert_exporter": "python",
   "pygments_lexer": "ipython3",
   "version": "3.7.3"
  }
 },
 "nbformat": 4,
 "nbformat_minor": 2
}
