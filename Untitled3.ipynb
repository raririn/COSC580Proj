{
 "cells": [
  {
   "cell_type": "code",
   "execution_count": 2,
   "metadata": {},
   "outputs": [],
   "source": [
    "from core import Core\n",
    "import time\n",
    "import random"
   ]
  },
  {
   "cell_type": "code",
   "execution_count": 3,
   "metadata": {},
   "outputs": [],
   "source": [
    "c = Core()"
   ]
  },
  {
   "cell_type": "code",
   "execution_count": 4,
   "metadata": {},
   "outputs": [
    {
     "data": {
      "text/plain": [
       "0"
      ]
     },
     "execution_count": 4,
     "metadata": {},
     "output_type": "execute_result"
    }
   ],
   "source": [
    "c._create_table('A', ['a', 'b'], ['int', 'int'], None, None)\n",
    "c._create_table('B', ['a', 'b'], ['int', 'int'], None, None)\n",
    "c._create_table('C', ['a', 'b'], ['int', 'int'], None, None)\n",
    "c._create_table('D', ['a', 'b'], ['int', 'int'], None, None)"
   ]
  },
  {
   "cell_type": "code",
   "execution_count": 5,
   "metadata": {},
   "outputs": [],
   "source": [
    "rows_1k = list([tuple([i, 1]) for i in range(1000)])\n",
    "rows_10k = list([tuple([i, 1]) for i in range(10000)])\n",
    "random.shuffle(rows_1k)\n",
    "random.shuffle(rows_10k)"
   ]
  },
  {
   "cell_type": "code",
   "execution_count": 6,
   "metadata": {},
   "outputs": [],
   "source": [
    "for i in rows_1k:\n",
    "    c.tables['A']._insert(i)\n",
    "for i in rows_10k:\n",
    "    c.tables['C']._insert(i)"
   ]
  },
  {
   "cell_type": "code",
   "execution_count": 9,
   "metadata": {},
   "outputs": [
    {
     "name": "stdout",
     "output_type": "stream",
     "text": [
      "0.7905478477478027\n",
      "Table <1575254059.0873065>\n",
      "4 columns, 499500 rows\n",
      "['A.a: int', 'A.b: int', 'C.a: int', 'C.b: int']\n",
      "0 (1, 1, 0, 1)\n",
      "1 (2, 1, 0, 1)\n",
      "2 (2, 1, 1, 1)\n",
      "3 (3, 1, 0, 1)\n",
      "4 (3, 1, 1, 1)\n"
     ]
    }
   ],
   "source": [
    "'''\n",
    "SELECT *\n",
    "FROM A, B\n",
    "WHERE A.a = C.a\n",
    "'''\n",
    "\n",
    "join_script = {\n",
    "    'query': {\n",
    "        'select': {\n",
    "            'columns': ['A.a', 'A.b', 'C.a', 'C.b'],\n",
    "            'aggr_func': [],\n",
    "            'distinct': [],\n",
    "        },\n",
    "        'from': ['A', 'B'],\n",
    "        'where': {\n",
    "            'joins': [['A.a', '>', 'C.a']],\n",
    "            'conditions': []\n",
    "        },\n",
    "        'groupby': [],\n",
    "        'orderby': [],\n",
    "    },\n",
    "    'tables': {\n",
    "        'A': 'A',\n",
    "        'C': 'C',\n",
    "    },\n",
    "    'columns': {\n",
    "        'A.a': 'A.a',\n",
    "        'A.b': 'A.b',\n",
    "        'C.a': 'C.a',\n",
    "        'C.b': 'C.b',\n",
    "    },\n",
    "}\n",
    "t = time.time()\n",
    "r = c.execute_select(join_script)\n",
    "print(time.time() - t)\n",
    "r.head()"
   ]
  },
  {
   "cell_type": "code",
   "execution_count": 8,
   "metadata": {},
   "outputs": [
    {
     "data": {
      "text/plain": [
       "0"
      ]
     },
     "execution_count": 8,
     "metadata": {},
     "output_type": "execute_result"
    }
   ],
   "source": [
    "query = '''CREATE INDEX a1 ON A (a)'''\n",
    "\n",
    "q1 = c.parser.parse(query)\n",
    "c.execute_create_index(q1)"
   ]
  },
  {
   "cell_type": "code",
   "execution_count": null,
   "metadata": {},
   "outputs": [],
   "source": []
  }
 ],
 "metadata": {
  "kernelspec": {
   "display_name": "Python 3",
   "language": "python",
   "name": "python3"
  },
  "language_info": {
   "codemirror_mode": {
    "name": "ipython",
    "version": 3
   },
   "file_extension": ".py",
   "mimetype": "text/x-python",
   "name": "python",
   "nbconvert_exporter": "python",
   "pygments_lexer": "ipython3",
   "version": "3.7.3"
  }
 },
 "nbformat": 4,
 "nbformat_minor": 2
}
