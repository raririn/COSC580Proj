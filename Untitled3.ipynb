{
 "cells": [
  {
   "cell_type": "code",
   "execution_count": 1,
   "metadata": {},
   "outputs": [],
   "source": [
    "from core import Core\n",
    "import time\n",
    "import random"
   ]
  },
  {
   "cell_type": "code",
   "execution_count": 2,
   "metadata": {},
   "outputs": [],
   "source": [
    "c = Core()"
   ]
  },
  {
   "cell_type": "code",
   "execution_count": 3,
   "metadata": {},
   "outputs": [
    {
     "name": "stdout",
     "output_type": "stream",
     "text": [
      "0\n",
      "0\n",
      "0\n",
      "0\n"
     ]
    }
   ],
   "source": [
    "q1 = '''\n",
    "CREATE TABLE A\n",
    "(\n",
    "a int,\n",
    "b int\n",
    ")\n",
    "'''\n",
    "q2 = '''\n",
    "CREATE TABLE B\n",
    "(\n",
    "a int,\n",
    "b int\n",
    ")\n",
    "'''\n",
    "q3 = '''\n",
    "CREATE TABLE C\n",
    "(\n",
    "a int,\n",
    "b int\n",
    ")\n",
    "'''\n",
    "q4 = '''\n",
    "CREATE TABLE D\n",
    "(\n",
    "a int,\n",
    "b int\n",
    ")\n",
    "'''\n",
    "for i in [q1, q2, q3, q4]:\n",
    "    print(c.handler(i))"
   ]
  },
  {
   "cell_type": "code",
   "execution_count": 4,
   "metadata": {},
   "outputs": [],
   "source": [
    "rows_1k = list([tuple([i, 1]) for i in range(1, 1001)])\n",
    "rows_1k_1k = list([tuple([i, i]) for i in range(1, 1001)])\n",
    "rows_10k = list([tuple([i, 1]) for i in range(1, 10001)])\n",
    "rows_10k_10k = list([tuple([i, i]) for i in range(1, 10001)])"
   ]
  },
  {
   "cell_type": "code",
   "execution_count": 5,
   "metadata": {},
   "outputs": [],
   "source": [
    "for i in rows_1k:\n",
    "    c.tables['a']._insert(i)\n",
    "for i in rows_1k_1k:\n",
    "    c.tables['b']._insert(i)\n",
    "for i in rows_10k:\n",
    "    c.tables['c']._insert(i)\n",
    "for i in rows_10k_10k:\n",
    "    c.tables['d']._insert(i)"
   ]
  },
  {
   "cell_type": "code",
   "execution_count": 6,
   "metadata": {},
   "outputs": [
    {
     "data": {
      "text/plain": [
       "0"
      ]
     },
     "execution_count": 6,
     "metadata": {},
     "output_type": "execute_result"
    }
   ],
   "source": [
    "c._dump_db('test.db')"
   ]
  },
  {
   "cell_type": "code",
   "execution_count": null,
   "metadata": {},
   "outputs": [],
   "source": []
  }
 ],
 "metadata": {
  "kernelspec": {
   "display_name": "Python 3",
   "language": "python",
   "name": "python3"
  },
  "language_info": {
   "codemirror_mode": {
    "name": "ipython",
    "version": 3
   },
   "file_extension": ".py",
   "mimetype": "text/x-python",
   "name": "python",
   "nbconvert_exporter": "python",
   "pygments_lexer": "ipython3",
   "version": "3.7.3"
  }
 },
 "nbformat": 4,
 "nbformat_minor": 2
}
